{
 "cells": [
  {
   "cell_type": "code",
   "execution_count": 2,
   "id": "accepting-detector",
   "metadata": {},
   "outputs": [
    {
     "name": "stdout",
     "output_type": "stream",
     "text": [
      "env: CUDA_LAUNCH_BLOCKING=1\n"
     ]
    }
   ],
   "source": [
    "%env CUDA_LAUNCH_BLOCKING=1"
   ]
  },
  {
   "cell_type": "code",
   "execution_count": 3,
   "id": "alert-average",
   "metadata": {},
   "outputs": [],
   "source": [
    "#!pip install sentencepiece\n",
    "#!pip install torch\n",
    "#!pip install transformers\n",
    "#!pip install rouge_score"
   ]
  },
  {
   "cell_type": "code",
   "execution_count": 4,
   "id": "widespread-reaction",
   "metadata": {},
   "outputs": [],
   "source": [
    "import os\n",
    "import json\n",
    "import torch\n",
    "import torch.nn as nn\n",
    "import torch.nn.functional as F\n",
    "import re\n",
    "import time\n",
    "\n",
    "import pandas as pd\n",
    "from transformers import PegasusForConditionalGeneration, PegasusTokenizer, PegasusConfig\n",
    "import matplotlib.pyplot as plt\n",
    "from rouge_score import rouge_scorer\n"
   ]
  },
  {
   "cell_type": "code",
   "execution_count": 5,
   "id": "postal-degree",
   "metadata": {},
   "outputs": [],
   "source": [
    "#globals\n",
    "MAX_LENGTH = 1024\n",
    "device = torch.device(\"cuda\" if torch.cuda.is_available() else \"cpu\")\n"
   ]
  },
  {
   "cell_type": "code",
   "execution_count": 6,
   "id": "simplified-angel",
   "metadata": {},
   "outputs": [],
   "source": [
    "#dataset and tokenizer building\n",
    "#load our 10k data into a dataframe\n",
    "limit = 10\n",
    "papers = []\n",
    "for root, dirs, files in os.walk(\"./data/mini_10k\"):\n",
    "    for f in files:\n",
    "        fn = root+\"/\"+f\n",
    "        with open(fn) as jsonfile:\n",
    "            d = json.load(jsonfile)\n",
    "        papers.append(d)\n",
    "        \n",
    "        if len(papers) >= limit:\n",
    "            break\n",
    "    if len(papers) >= limit:\n",
    "        break\n",
    "df = pd.DataFrame(papers)"
   ]
  },
  {
   "cell_type": "code",
   "execution_count": 7,
   "id": "considered-organ",
   "metadata": {},
   "outputs": [],
   "source": [
    "#load our rouge scorer\n",
    "scorer = rouge_scorer.RougeScorer(['rouge1', 'rouge2'], use_stemmer=True)"
   ]
  },
  {
   "cell_type": "code",
   "execution_count": 8,
   "id": "valid-country",
   "metadata": {},
   "outputs": [],
   "source": [
    "#load our pretrained model\n",
    "model_name = 'google/pegasus-large'\n",
    "tokenizer = PegasusTokenizer.from_pretrained(model_name)\n",
    "config = PegasusConfig.from_pretrained(model_name, output_hidden_states=True, output_attentions=True)  \n",
    "pt_model = PegasusForConditionalGeneration.from_pretrained(model_name, config=config).to(device)"
   ]
  },
  {
   "cell_type": "code",
   "execution_count": 9,
   "id": "particular-proposition",
   "metadata": {},
   "outputs": [
    {
     "name": "stdout",
     "output_type": "stream",
     "text": [
      "dict_keys(['input_ids', 'attention_mask'])\n"
     ]
    }
   ],
   "source": [
    "#example batch (size 1)\n",
    "#print(df)\n",
    "batch = tokenizer(df.fulltext[3], truncation=True, padding='longest', return_tensors=\"pt\").to(device)\n",
    "print(batch.keys())"
   ]
  },
  {
   "cell_type": "code",
   "execution_count": 10,
   "id": "authorized-thirty",
   "metadata": {},
   "outputs": [
    {
     "name": "stdout",
     "output_type": "stream",
     "text": [
      "odict_keys(['sequences', 'encoder_attentions', 'encoder_hidden_states', 'decoder_attentions', 'cross_attentions', 'decoder_hidden_states'])\n",
      "17\n"
     ]
    }
   ],
   "source": [
    "#example pretrained generation with keys\n",
    "out = pt_model.generate(return_dict_in_generate=True, **batch)\n",
    "print(out.keys())\n",
    "print(len(out[\"encoder_hidden_states\"]))"
   ]
  },
  {
   "cell_type": "code",
   "execution_count": null,
   "id": "indonesian-filing",
   "metadata": {},
   "outputs": [],
   "source": []
  },
  {
   "cell_type": "code",
   "execution_count": null,
   "id": "phantom-universal",
   "metadata": {},
   "outputs": [],
   "source": []
  },
  {
   "cell_type": "code",
   "execution_count": 11,
   "id": "generous-delight",
   "metadata": {},
   "outputs": [],
   "source": [
    "class AttentionAttention(nn.Module):\n",
    "    def __init__(self,  \n",
    "                 vocab_size=32000, \n",
    "                 input_size=1024, \n",
    "                 target_size=256):\n",
    "        super(AttentionAttention, self).__init__()\n",
    "        \n",
    "        \n",
    "        #attn head1\n",
    "        self.ah1_1 = nn.Linear(input_size, target_size)\n",
    "        self.ah1_2 = nn.Linear(target_size, target_size//2)\n",
    "        self.ah1_3 = nn.Linear(target_size//2, target_size//4)\n",
    "        \n",
    "        #attn head2\n",
    "        self.ah2_1 = nn.Linear(input_size, target_size)\n",
    "        self.ah2_2 = nn.Linear(target_size, target_size//2)\n",
    "        self.ah2_3 = nn.Linear(target_size//2, target_size//4)\n",
    "        \n",
    "        #attn head3\n",
    "        self.ah3_1 = nn.Linear(input_size, target_size)\n",
    "        self.ah3_2 = nn.Linear(target_size, target_size//2)\n",
    "        self.ah3_3 = nn.Linear(target_size//2, target_size//4)\n",
    "        \n",
    "        #attn head4\n",
    "        self.ah4_1 = nn.Linear(input_size, target_size)\n",
    "        self.ah4_2 = nn.Linear(target_size, target_size//2)\n",
    "        self.ah4_3 = nn.Linear(target_size//2, target_size//4)\n",
    " \n",
    "        #compression layer\n",
    "        self.fc_comp = nn.Linear(target_size//2, target_size)\n",
    "        \n",
    "        #output head\n",
    "        self.fc_out = nn.Linear(target_size, vocab_size)\n",
    "        \n",
    "        #dropout layer\n",
    "        self.do = nn.Dropout(p=0.2)\n",
    "            \n",
    "        #mapping variable\n",
    "        self.node2attn = {}\n",
    "        \n",
    "    def forward(self, out, print_attn=False):\n",
    "        \n",
    "        \n",
    "        assert(len(out[\"encoder_attentions\"])==16)\n",
    "        \n",
    "        #initialize a random tensor as our 'shallow' attn\n",
    "        shallow_attn1 = torch.rand((1024,1024), requires_grad=True).to(device)\n",
    "        #shallow_attn2 = torch.rand((1024,1024), requires_grad=True).to(device)\n",
    "        #shallow_attn3 = torch.rand((1024,1024), requires_grad=True).to(device)\n",
    "        #shallow_attn4 = torch.rand((1024,1024), requires_grad=True).to(device)\n",
    "        \n",
    "        #pull only from these attn layers\n",
    "        self.node2attn = {\n",
    "            0:shallow_attn1,\n",
    "            1:shallow_attn2,\n",
    "            #2:shallow_attn3,\n",
    "            #4:shallow_attn4,\n",
    "        }\n",
    "        \n",
    "        for i,attn in enumerate(out[\"encoder_attentions\"]):\n",
    "            if i not in self.node2attn:\n",
    "                continue\n",
    "            \n",
    "            for j,block in enumerate(attn[0]):\n",
    "                attn = torch.tensor(block).to(device)\n",
    "                \n",
    "                #get our shallow attn tensor (right now just noise)\n",
    "                shallow_attn = self.node2attn[i]\n",
    "                \n",
    "                #experiment 0\n",
    "                #add our attention to the noise\n",
    "                shallow_attn = shallow_attn.add(attn)\n",
    "                \n",
    "                # experiment 1, ab,cd->bc\n",
    "                #shallow_attn = torch.einsum(\"ab,cd->bc\", shallow_attn, attn)\n",
    "                \n",
    "                #experiment 2, ab,cd->ad\n",
    "                shallow_attn = torch.einsum(\"ab,cd->ad\", shallow_attn, attn)\n",
    "                \n",
    "                #optional debug, print attn\n",
    "                if print_attn:\n",
    "                    plt.matshow(shallow_attn.cpu().detach().numpy())\n",
    "                    plt.show()\n",
    "                \n",
    "                \n",
    "                \n",
    "                #just take the first shallow attn\n",
    "                #break out from inner loop\n",
    "                break\n",
    "                    \n",
    "        \n",
    "        \n",
    "        #values,indices = torch.sort(global_attn)\n",
    "        \n",
    "        \n",
    "        #learn from shallow_attn1\n",
    "        x1 = F.relu(self.ah1_1(shallow_attn1))\n",
    "        x1 = F.relu(self.ah1_2(x1))\n",
    "        x1 = F.relu(self.ah1_3(x1))\n",
    "        \n",
    "        #learn from shallow_attn2\n",
    "#         x2 = F.relu(self.ah2_1(shallow_attn2))\n",
    "#         x2 = F.relu(self.ah2_2(x2))\n",
    "#         x2 = F.relu(self.ah2_3(x2))\n",
    "        \n",
    "        #learn from shallow_attn3\n",
    "#         x3 = F.relu(self.ah3_1(shallow_attn3))\n",
    "#         x3 = F.relu(self.ah3_2(x3))\n",
    "#         x3 = F.relu(self.ah3_3(x3))\n",
    "        \n",
    "#         #learn from shallow_attn4\n",
    "#         x4 = F.relu(self.ah4_1(shallow_attn4))\n",
    "#         x4 = F.relu(self.ah4_2(x4))\n",
    "#         x4 = F.relu(self.ah4_3(x4))\n",
    "                \n",
    "        #concatenate all heads\n",
    "        #print(x1.shape, x2.shape, x3.shape)\n",
    "        #x_concat = torch.cat((x1,x2), 1)\n",
    "        \n",
    "        #print(x_concat.shape)\n",
    "\n",
    "        #x = F.relu(self.fc_comp(x_concat))\n",
    "        \n",
    "        #add dropout\n",
    "        x = self.do(x1)\n",
    "        \n",
    "        #run through our final output layer\n",
    "        x = F.relu(self.fc_out(x))\n",
    "        \n",
    "        #print(x.shape)\n",
    "\n",
    "        return x"
   ]
  },
  {
   "cell_type": "code",
   "execution_count": 12,
   "id": "indian-leather",
   "metadata": {},
   "outputs": [],
   "source": [
    "aa = AttentionAttention(vocab_size=tokenizer.vocab_size).to(device)"
   ]
  },
  {
   "cell_type": "code",
   "execution_count": 20,
   "id": "brilliant-company",
   "metadata": {},
   "outputs": [
    {
     "name": "stderr",
     "output_type": "stream",
     "text": [
      "/home/ubuntu/anaconda3/lib/python3.7/site-packages/ipykernel_launcher.py:65: UserWarning: To copy construct from a tensor, it is recommended to use sourceTensor.clone().detach() or sourceTensor.clone().detach().requires_grad_(True), rather than torch.tensor(sourceTensor).\n"
     ]
    },
    {
     "data": {
      "image/png": "[encoded data removed]",
      "text/plain": [
       "<Figure size 288x288 with 1 Axes>"
      ]
     },
     "metadata": {
      "needs_background": "light"
     },
     "output_type": "display_data"
    },
    {
     "data": {
      "image/png": "[encoded data removed]",
      "text/plain": [
       "<Figure size 288x288 with 1 Axes>"
      ]
     },
     "metadata": {
      "needs_background": "light"
     },
     "output_type": "display_data"
    },
    {
     "name": "stdout",
     "output_type": "stream",
     "text": [
      "torch.Size([1024, 128])\n",
      "torch.Size([1024, 96103])\n"
     ]
    },
    {
     "data": {
      "text/plain": [
       "torch.Size([1024, 96103])"
      ]
     },
     "execution_count": 20,
     "metadata": {},
     "output_type": "execute_result"
    }
   ],
   "source": [
    "o3 = aa.forward(out, print_attn=True)\n",
    "o3.shape"
   ]
  },
  {
   "cell_type": "code",
   "execution_count": 13,
   "id": "honest-bowling",
   "metadata": {},
   "outputs": [],
   "source": [
    "def summary2tensor(summary, batch_size=1, vocab_size=32000):\n",
    "    z = torch.zeros(batch_size,vocab_size).to(device)\n",
    "    for i,wid in enumerate(summary):   \n",
    "        z[i][wid] = 1.0 \n",
    "    return z\n",
    "\n",
    "\n",
    "def pred2tensor(pred):\n",
    "    ids = []\n",
    "    for r in pred:\n",
    "        idx = torch.argmax(r)\n",
    "        ids.append(idx)\n",
    "    return torch.tensor(ids)"
   ]
  },
  {
   "cell_type": "code",
   "execution_count": 14,
   "id": "chief-minority",
   "metadata": {},
   "outputs": [],
   "source": [
    "#load the model from disk\n",
    "#aa = AttentionAttention(vocab_size=tokenizer.vocab_size).to(device)\n",
    "#aa.load_state_dict(\"data/aa_model.state\")\n",
    "#aa.eval()"
   ]
  },
  {
   "cell_type": "code",
   "execution_count": 15,
   "id": "stopped-circuit",
   "metadata": {},
   "outputs": [
    {
     "name": "stdout",
     "output_type": "stream",
     "text": [
      "name 'shallow_attn2' is not defined\n"
     ]
    },
    {
     "ename": "RuntimeError",
     "evalue": "CUDA out of memory. Tried to allocate 20.00 MiB (GPU 0; 11.17 GiB total capacity; 10.38 GiB already allocated; 15.44 MiB free; 10.72 GiB reserved in total by PyTorch)",
     "output_type": "error",
     "traceback": [
      "\u001b[0;31m---------------------------------------------------------------------------\u001b[0m",
      "\u001b[0;31mRuntimeError\u001b[0m                              Traceback (most recent call last)",
      "\u001b[0;32m<ipython-input-15-5d41b904429e>\u001b[0m in \u001b[0;36m<module>\u001b[0;34m\u001b[0m\n\u001b[1;32m     14\u001b[0m     \u001b[0mbatch\u001b[0m \u001b[0;34m=\u001b[0m \u001b[0mtokenizer\u001b[0m\u001b[0;34m(\u001b[0m\u001b[0mdf\u001b[0m\u001b[0;34m.\u001b[0m\u001b[0mfulltext\u001b[0m\u001b[0;34m[\u001b[0m\u001b[0mi\u001b[0m\u001b[0;34m]\u001b[0m\u001b[0;34m,\u001b[0m \u001b[0mtruncation\u001b[0m\u001b[0;34m=\u001b[0m\u001b[0;32mTrue\u001b[0m\u001b[0;34m,\u001b[0m \u001b[0mpadding\u001b[0m\u001b[0;34m=\u001b[0m\u001b[0;34m'longest'\u001b[0m\u001b[0;34m,\u001b[0m \u001b[0mreturn_tensors\u001b[0m\u001b[0;34m=\u001b[0m\u001b[0;34m\"pt\"\u001b[0m\u001b[0;34m)\u001b[0m\u001b[0;34m.\u001b[0m\u001b[0mto\u001b[0m\u001b[0;34m(\u001b[0m\u001b[0mdevice\u001b[0m\u001b[0;34m)\u001b[0m\u001b[0;34m\u001b[0m\u001b[0;34m\u001b[0m\u001b[0m\n\u001b[1;32m     15\u001b[0m \u001b[0;34m\u001b[0m\u001b[0m\n\u001b[0;32m---> 16\u001b[0;31m     \u001b[0mout\u001b[0m \u001b[0;34m=\u001b[0m \u001b[0mpt_model\u001b[0m\u001b[0;34m.\u001b[0m\u001b[0mgenerate\u001b[0m\u001b[0;34m(\u001b[0m\u001b[0mreturn_dict_in_generate\u001b[0m\u001b[0;34m=\u001b[0m\u001b[0;32mTrue\u001b[0m\u001b[0;34m,\u001b[0m \u001b[0;34m**\u001b[0m\u001b[0mbatch\u001b[0m\u001b[0;34m)\u001b[0m\u001b[0;34m\u001b[0m\u001b[0;34m\u001b[0m\u001b[0m\n\u001b[0m\u001b[1;32m     17\u001b[0m \u001b[0;34m\u001b[0m\u001b[0m\n\u001b[1;32m     18\u001b[0m     \u001b[0;32mtry\u001b[0m\u001b[0;34m:\u001b[0m\u001b[0;34m\u001b[0m\u001b[0;34m\u001b[0m\u001b[0m\n",
      "\u001b[0;32m~/anaconda3/lib/python3.7/site-packages/torch/autograd/grad_mode.py\u001b[0m in \u001b[0;36mdecorate_context\u001b[0;34m(*args, **kwargs)\u001b[0m\n\u001b[1;32m     25\u001b[0m         \u001b[0;32mdef\u001b[0m \u001b[0mdecorate_context\u001b[0m\u001b[0;34m(\u001b[0m\u001b[0;34m*\u001b[0m\u001b[0margs\u001b[0m\u001b[0;34m,\u001b[0m \u001b[0;34m**\u001b[0m\u001b[0mkwargs\u001b[0m\u001b[0;34m)\u001b[0m\u001b[0;34m:\u001b[0m\u001b[0;34m\u001b[0m\u001b[0;34m\u001b[0m\u001b[0m\n\u001b[1;32m     26\u001b[0m             \u001b[0;32mwith\u001b[0m \u001b[0mself\u001b[0m\u001b[0;34m.\u001b[0m\u001b[0m__class__\u001b[0m\u001b[0;34m(\u001b[0m\u001b[0;34m)\u001b[0m\u001b[0;34m:\u001b[0m\u001b[0;34m\u001b[0m\u001b[0;34m\u001b[0m\u001b[0m\n\u001b[0;32m---> 27\u001b[0;31m                 \u001b[0;32mreturn\u001b[0m \u001b[0mfunc\u001b[0m\u001b[0;34m(\u001b[0m\u001b[0;34m*\u001b[0m\u001b[0margs\u001b[0m\u001b[0;34m,\u001b[0m \u001b[0;34m**\u001b[0m\u001b[0mkwargs\u001b[0m\u001b[0;34m)\u001b[0m\u001b[0;34m\u001b[0m\u001b[0;34m\u001b[0m\u001b[0m\n\u001b[0m\u001b[1;32m     28\u001b[0m         \u001b[0;32mreturn\u001b[0m \u001b[0mcast\u001b[0m\u001b[0;34m(\u001b[0m\u001b[0mF\u001b[0m\u001b[0;34m,\u001b[0m \u001b[0mdecorate_context\u001b[0m\u001b[0;34m)\u001b[0m\u001b[0;34m\u001b[0m\u001b[0;34m\u001b[0m\u001b[0m\n\u001b[1;32m     29\u001b[0m \u001b[0;34m\u001b[0m\u001b[0m\n",
      "\u001b[0;32m~/anaconda3/lib/python3.7/site-packages/transformers/generation_utils.py\u001b[0m in \u001b[0;36mgenerate\u001b[0;34m(self, input_ids, max_length, min_length, do_sample, early_stopping, num_beams, temperature, top_k, top_p, repetition_penalty, bad_words_ids, bos_token_id, pad_token_id, eos_token_id, length_penalty, no_repeat_ngram_size, encoder_no_repeat_ngram_size, num_return_sequences, max_time, decoder_start_token_id, use_cache, num_beam_groups, diversity_penalty, prefix_allowed_tokens_fn, output_attentions, output_hidden_states, output_scores, return_dict_in_generate, forced_bos_token_id, forced_eos_token_id, remove_invalid_values, **model_kwargs)\u001b[0m\n\u001b[1;32m   1064\u001b[0m                 \u001b[0moutput_scores\u001b[0m\u001b[0;34m=\u001b[0m\u001b[0moutput_scores\u001b[0m\u001b[0;34m,\u001b[0m\u001b[0;34m\u001b[0m\u001b[0;34m\u001b[0m\u001b[0m\n\u001b[1;32m   1065\u001b[0m                 \u001b[0mreturn_dict_in_generate\u001b[0m\u001b[0;34m=\u001b[0m\u001b[0mreturn_dict_in_generate\u001b[0m\u001b[0;34m,\u001b[0m\u001b[0;34m\u001b[0m\u001b[0;34m\u001b[0m\u001b[0m\n\u001b[0;32m-> 1066\u001b[0;31m                 \u001b[0;34m**\u001b[0m\u001b[0mmodel_kwargs\u001b[0m\u001b[0;34m,\u001b[0m\u001b[0;34m\u001b[0m\u001b[0;34m\u001b[0m\u001b[0m\n\u001b[0m\u001b[1;32m   1067\u001b[0m             )\n\u001b[1;32m   1068\u001b[0m \u001b[0;34m\u001b[0m\u001b[0m\n",
      "\u001b[0;32m~/anaconda3/lib/python3.7/site-packages/transformers/generation_utils.py\u001b[0m in \u001b[0;36mbeam_search\u001b[0;34m(self, input_ids, beam_scorer, logits_processor, stopping_criteria, max_length, pad_token_id, eos_token_id, output_attentions, output_hidden_states, output_scores, return_dict_in_generate, **model_kwargs)\u001b[0m\n\u001b[1;32m   1734\u001b[0m                 \u001b[0mreturn_dict\u001b[0m\u001b[0;34m=\u001b[0m\u001b[0;32mTrue\u001b[0m\u001b[0;34m,\u001b[0m\u001b[0;34m\u001b[0m\u001b[0;34m\u001b[0m\u001b[0m\n\u001b[1;32m   1735\u001b[0m                 \u001b[0moutput_attentions\u001b[0m\u001b[0;34m=\u001b[0m\u001b[0moutput_attentions\u001b[0m\u001b[0;34m,\u001b[0m\u001b[0;34m\u001b[0m\u001b[0;34m\u001b[0m\u001b[0m\n\u001b[0;32m-> 1736\u001b[0;31m                 \u001b[0moutput_hidden_states\u001b[0m\u001b[0;34m=\u001b[0m\u001b[0moutput_hidden_states\u001b[0m\u001b[0;34m,\u001b[0m\u001b[0;34m\u001b[0m\u001b[0;34m\u001b[0m\u001b[0m\n\u001b[0m\u001b[1;32m   1737\u001b[0m             )\n\u001b[1;32m   1738\u001b[0m             \u001b[0mnext_token_logits\u001b[0m \u001b[0;34m=\u001b[0m \u001b[0moutputs\u001b[0m\u001b[0;34m.\u001b[0m\u001b[0mlogits\u001b[0m\u001b[0;34m[\u001b[0m\u001b[0;34m:\u001b[0m\u001b[0;34m,\u001b[0m \u001b[0;34m-\u001b[0m\u001b[0;36m1\u001b[0m\u001b[0;34m,\u001b[0m \u001b[0;34m:\u001b[0m\u001b[0;34m]\u001b[0m\u001b[0;34m\u001b[0m\u001b[0;34m\u001b[0m\u001b[0m\n",
      "\u001b[0;32m~/anaconda3/lib/python3.7/site-packages/torch/nn/modules/module.py\u001b[0m in \u001b[0;36m_call_impl\u001b[0;34m(self, *input, **kwargs)\u001b[0m\n\u001b[1;32m    887\u001b[0m             \u001b[0mresult\u001b[0m \u001b[0;34m=\u001b[0m \u001b[0mself\u001b[0m\u001b[0;34m.\u001b[0m\u001b[0m_slow_forward\u001b[0m\u001b[0;34m(\u001b[0m\u001b[0;34m*\u001b[0m\u001b[0minput\u001b[0m\u001b[0;34m,\u001b[0m \u001b[0;34m**\u001b[0m\u001b[0mkwargs\u001b[0m\u001b[0;34m)\u001b[0m\u001b[0;34m\u001b[0m\u001b[0;34m\u001b[0m\u001b[0m\n\u001b[1;32m    888\u001b[0m         \u001b[0;32melse\u001b[0m\u001b[0;34m:\u001b[0m\u001b[0;34m\u001b[0m\u001b[0;34m\u001b[0m\u001b[0m\n\u001b[0;32m--> 889\u001b[0;31m             \u001b[0mresult\u001b[0m \u001b[0;34m=\u001b[0m \u001b[0mself\u001b[0m\u001b[0;34m.\u001b[0m\u001b[0mforward\u001b[0m\u001b[0;34m(\u001b[0m\u001b[0;34m*\u001b[0m\u001b[0minput\u001b[0m\u001b[0;34m,\u001b[0m \u001b[0;34m**\u001b[0m\u001b[0mkwargs\u001b[0m\u001b[0;34m)\u001b[0m\u001b[0;34m\u001b[0m\u001b[0;34m\u001b[0m\u001b[0m\n\u001b[0m\u001b[1;32m    890\u001b[0m         for hook in itertools.chain(\n\u001b[1;32m    891\u001b[0m                 \u001b[0m_global_forward_hooks\u001b[0m\u001b[0;34m.\u001b[0m\u001b[0mvalues\u001b[0m\u001b[0;34m(\u001b[0m\u001b[0;34m)\u001b[0m\u001b[0;34m,\u001b[0m\u001b[0;34m\u001b[0m\u001b[0;34m\u001b[0m\u001b[0m\n",
      "\u001b[0;32m~/anaconda3/lib/python3.7/site-packages/transformers/models/pegasus/modeling_pegasus.py\u001b[0m in \u001b[0;36mforward\u001b[0;34m(self, input_ids, attention_mask, decoder_input_ids, decoder_attention_mask, head_mask, decoder_head_mask, encoder_outputs, past_key_values, inputs_embeds, decoder_inputs_embeds, labels, use_cache, output_attentions, output_hidden_states, return_dict)\u001b[0m\n\u001b[1;32m   1278\u001b[0m             \u001b[0moutput_attentions\u001b[0m\u001b[0;34m=\u001b[0m\u001b[0moutput_attentions\u001b[0m\u001b[0;34m,\u001b[0m\u001b[0;34m\u001b[0m\u001b[0;34m\u001b[0m\u001b[0m\n\u001b[1;32m   1279\u001b[0m             \u001b[0moutput_hidden_states\u001b[0m\u001b[0;34m=\u001b[0m\u001b[0moutput_hidden_states\u001b[0m\u001b[0;34m,\u001b[0m\u001b[0;34m\u001b[0m\u001b[0;34m\u001b[0m\u001b[0m\n\u001b[0;32m-> 1280\u001b[0;31m             \u001b[0mreturn_dict\u001b[0m\u001b[0;34m=\u001b[0m\u001b[0mreturn_dict\u001b[0m\u001b[0;34m,\u001b[0m\u001b[0;34m\u001b[0m\u001b[0;34m\u001b[0m\u001b[0m\n\u001b[0m\u001b[1;32m   1281\u001b[0m         )\n\u001b[1;32m   1282\u001b[0m         \u001b[0mlm_logits\u001b[0m \u001b[0;34m=\u001b[0m \u001b[0mself\u001b[0m\u001b[0;34m.\u001b[0m\u001b[0mlm_head\u001b[0m\u001b[0;34m(\u001b[0m\u001b[0moutputs\u001b[0m\u001b[0;34m[\u001b[0m\u001b[0;36m0\u001b[0m\u001b[0;34m]\u001b[0m\u001b[0;34m)\u001b[0m \u001b[0;34m+\u001b[0m \u001b[0mself\u001b[0m\u001b[0;34m.\u001b[0m\u001b[0mfinal_logits_bias\u001b[0m\u001b[0;34m\u001b[0m\u001b[0;34m\u001b[0m\u001b[0m\n",
      "\u001b[0;32m~/anaconda3/lib/python3.7/site-packages/torch/nn/modules/module.py\u001b[0m in \u001b[0;36m_call_impl\u001b[0;34m(self, *input, **kwargs)\u001b[0m\n\u001b[1;32m    887\u001b[0m             \u001b[0mresult\u001b[0m \u001b[0;34m=\u001b[0m \u001b[0mself\u001b[0m\u001b[0;34m.\u001b[0m\u001b[0m_slow_forward\u001b[0m\u001b[0;34m(\u001b[0m\u001b[0;34m*\u001b[0m\u001b[0minput\u001b[0m\u001b[0;34m,\u001b[0m \u001b[0;34m**\u001b[0m\u001b[0mkwargs\u001b[0m\u001b[0;34m)\u001b[0m\u001b[0;34m\u001b[0m\u001b[0;34m\u001b[0m\u001b[0m\n\u001b[1;32m    888\u001b[0m         \u001b[0;32melse\u001b[0m\u001b[0;34m:\u001b[0m\u001b[0;34m\u001b[0m\u001b[0;34m\u001b[0m\u001b[0m\n\u001b[0;32m--> 889\u001b[0;31m             \u001b[0mresult\u001b[0m \u001b[0;34m=\u001b[0m \u001b[0mself\u001b[0m\u001b[0;34m.\u001b[0m\u001b[0mforward\u001b[0m\u001b[0;34m(\u001b[0m\u001b[0;34m*\u001b[0m\u001b[0minput\u001b[0m\u001b[0;34m,\u001b[0m \u001b[0;34m**\u001b[0m\u001b[0mkwargs\u001b[0m\u001b[0;34m)\u001b[0m\u001b[0;34m\u001b[0m\u001b[0;34m\u001b[0m\u001b[0m\n\u001b[0m\u001b[1;32m    890\u001b[0m         for hook in itertools.chain(\n\u001b[1;32m    891\u001b[0m                 \u001b[0m_global_forward_hooks\u001b[0m\u001b[0;34m.\u001b[0m\u001b[0mvalues\u001b[0m\u001b[0;34m(\u001b[0m\u001b[0;34m)\u001b[0m\u001b[0;34m,\u001b[0m\u001b[0;34m\u001b[0m\u001b[0;34m\u001b[0m\u001b[0m\n",
      "\u001b[0;32m~/anaconda3/lib/python3.7/site-packages/transformers/models/pegasus/modeling_pegasus.py\u001b[0m in \u001b[0;36mforward\u001b[0;34m(self, input_ids, attention_mask, decoder_input_ids, decoder_attention_mask, head_mask, decoder_head_mask, encoder_outputs, past_key_values, inputs_embeds, decoder_inputs_embeds, use_cache, output_attentions, output_hidden_states, return_dict)\u001b[0m\n\u001b[1;32m   1161\u001b[0m             \u001b[0moutput_attentions\u001b[0m\u001b[0;34m=\u001b[0m\u001b[0moutput_attentions\u001b[0m\u001b[0;34m,\u001b[0m\u001b[0;34m\u001b[0m\u001b[0;34m\u001b[0m\u001b[0m\n\u001b[1;32m   1162\u001b[0m             \u001b[0moutput_hidden_states\u001b[0m\u001b[0;34m=\u001b[0m\u001b[0moutput_hidden_states\u001b[0m\u001b[0;34m,\u001b[0m\u001b[0;34m\u001b[0m\u001b[0;34m\u001b[0m\u001b[0m\n\u001b[0;32m-> 1163\u001b[0;31m             \u001b[0mreturn_dict\u001b[0m\u001b[0;34m=\u001b[0m\u001b[0mreturn_dict\u001b[0m\u001b[0;34m,\u001b[0m\u001b[0;34m\u001b[0m\u001b[0;34m\u001b[0m\u001b[0m\n\u001b[0m\u001b[1;32m   1164\u001b[0m         )\n\u001b[1;32m   1165\u001b[0m \u001b[0;34m\u001b[0m\u001b[0m\n",
      "\u001b[0;32m~/anaconda3/lib/python3.7/site-packages/torch/nn/modules/module.py\u001b[0m in \u001b[0;36m_call_impl\u001b[0;34m(self, *input, **kwargs)\u001b[0m\n\u001b[1;32m    887\u001b[0m             \u001b[0mresult\u001b[0m \u001b[0;34m=\u001b[0m \u001b[0mself\u001b[0m\u001b[0;34m.\u001b[0m\u001b[0m_slow_forward\u001b[0m\u001b[0;34m(\u001b[0m\u001b[0;34m*\u001b[0m\u001b[0minput\u001b[0m\u001b[0;34m,\u001b[0m \u001b[0;34m**\u001b[0m\u001b[0mkwargs\u001b[0m\u001b[0;34m)\u001b[0m\u001b[0;34m\u001b[0m\u001b[0;34m\u001b[0m\u001b[0m\n\u001b[1;32m    888\u001b[0m         \u001b[0;32melse\u001b[0m\u001b[0;34m:\u001b[0m\u001b[0;34m\u001b[0m\u001b[0;34m\u001b[0m\u001b[0m\n\u001b[0;32m--> 889\u001b[0;31m             \u001b[0mresult\u001b[0m \u001b[0;34m=\u001b[0m \u001b[0mself\u001b[0m\u001b[0;34m.\u001b[0m\u001b[0mforward\u001b[0m\u001b[0;34m(\u001b[0m\u001b[0;34m*\u001b[0m\u001b[0minput\u001b[0m\u001b[0;34m,\u001b[0m \u001b[0;34m**\u001b[0m\u001b[0mkwargs\u001b[0m\u001b[0;34m)\u001b[0m\u001b[0;34m\u001b[0m\u001b[0;34m\u001b[0m\u001b[0m\n\u001b[0m\u001b[1;32m    890\u001b[0m         for hook in itertools.chain(\n\u001b[1;32m    891\u001b[0m                 \u001b[0m_global_forward_hooks\u001b[0m\u001b[0;34m.\u001b[0m\u001b[0mvalues\u001b[0m\u001b[0;34m(\u001b[0m\u001b[0;34m)\u001b[0m\u001b[0;34m,\u001b[0m\u001b[0;34m\u001b[0m\u001b[0;34m\u001b[0m\u001b[0m\n",
      "\u001b[0;32m~/anaconda3/lib/python3.7/site-packages/transformers/models/pegasus/modeling_pegasus.py\u001b[0m in \u001b[0;36mforward\u001b[0;34m(self, input_ids, attention_mask, encoder_hidden_states, encoder_attention_mask, head_mask, encoder_head_mask, past_key_values, inputs_embeds, use_cache, output_attentions, output_hidden_states, return_dict)\u001b[0m\n\u001b[1;32m   1022\u001b[0m                     \u001b[0mpast_key_value\u001b[0m\u001b[0;34m=\u001b[0m\u001b[0mpast_key_value\u001b[0m\u001b[0;34m,\u001b[0m\u001b[0;34m\u001b[0m\u001b[0;34m\u001b[0m\u001b[0m\n\u001b[1;32m   1023\u001b[0m                     \u001b[0moutput_attentions\u001b[0m\u001b[0;34m=\u001b[0m\u001b[0moutput_attentions\u001b[0m\u001b[0;34m,\u001b[0m\u001b[0;34m\u001b[0m\u001b[0;34m\u001b[0m\u001b[0m\n\u001b[0;32m-> 1024\u001b[0;31m                     \u001b[0muse_cache\u001b[0m\u001b[0;34m=\u001b[0m\u001b[0muse_cache\u001b[0m\u001b[0;34m,\u001b[0m\u001b[0;34m\u001b[0m\u001b[0;34m\u001b[0m\u001b[0m\n\u001b[0m\u001b[1;32m   1025\u001b[0m                 )\n\u001b[1;32m   1026\u001b[0m             \u001b[0mhidden_states\u001b[0m \u001b[0;34m=\u001b[0m \u001b[0mlayer_outputs\u001b[0m\u001b[0;34m[\u001b[0m\u001b[0;36m0\u001b[0m\u001b[0;34m]\u001b[0m\u001b[0;34m\u001b[0m\u001b[0;34m\u001b[0m\u001b[0m\n",
      "\u001b[0;32m~/anaconda3/lib/python3.7/site-packages/torch/nn/modules/module.py\u001b[0m in \u001b[0;36m_call_impl\u001b[0;34m(self, *input, **kwargs)\u001b[0m\n\u001b[1;32m    887\u001b[0m             \u001b[0mresult\u001b[0m \u001b[0;34m=\u001b[0m \u001b[0mself\u001b[0m\u001b[0;34m.\u001b[0m\u001b[0m_slow_forward\u001b[0m\u001b[0;34m(\u001b[0m\u001b[0;34m*\u001b[0m\u001b[0minput\u001b[0m\u001b[0;34m,\u001b[0m \u001b[0;34m**\u001b[0m\u001b[0mkwargs\u001b[0m\u001b[0;34m)\u001b[0m\u001b[0;34m\u001b[0m\u001b[0;34m\u001b[0m\u001b[0m\n\u001b[1;32m    888\u001b[0m         \u001b[0;32melse\u001b[0m\u001b[0;34m:\u001b[0m\u001b[0;34m\u001b[0m\u001b[0;34m\u001b[0m\u001b[0m\n\u001b[0;32m--> 889\u001b[0;31m             \u001b[0mresult\u001b[0m \u001b[0;34m=\u001b[0m \u001b[0mself\u001b[0m\u001b[0;34m.\u001b[0m\u001b[0mforward\u001b[0m\u001b[0;34m(\u001b[0m\u001b[0;34m*\u001b[0m\u001b[0minput\u001b[0m\u001b[0;34m,\u001b[0m \u001b[0;34m**\u001b[0m\u001b[0mkwargs\u001b[0m\u001b[0;34m)\u001b[0m\u001b[0;34m\u001b[0m\u001b[0;34m\u001b[0m\u001b[0m\n\u001b[0m\u001b[1;32m    890\u001b[0m         for hook in itertools.chain(\n\u001b[1;32m    891\u001b[0m                 \u001b[0m_global_forward_hooks\u001b[0m\u001b[0;34m.\u001b[0m\u001b[0mvalues\u001b[0m\u001b[0;34m(\u001b[0m\u001b[0;34m)\u001b[0m\u001b[0;34m,\u001b[0m\u001b[0;34m\u001b[0m\u001b[0;34m\u001b[0m\u001b[0m\n",
      "\u001b[0;32m~/anaconda3/lib/python3.7/site-packages/transformers/models/pegasus/modeling_pegasus.py\u001b[0m in \u001b[0;36mforward\u001b[0;34m(self, hidden_states, attention_mask, encoder_hidden_states, encoder_attention_mask, layer_head_mask, encoder_layer_head_mask, past_key_value, output_attentions, use_cache)\u001b[0m\n\u001b[1;32m    421\u001b[0m             \u001b[0mattention_mask\u001b[0m\u001b[0;34m=\u001b[0m\u001b[0mattention_mask\u001b[0m\u001b[0;34m,\u001b[0m\u001b[0;34m\u001b[0m\u001b[0;34m\u001b[0m\u001b[0m\n\u001b[1;32m    422\u001b[0m             \u001b[0mlayer_head_mask\u001b[0m\u001b[0;34m=\u001b[0m\u001b[0mlayer_head_mask\u001b[0m\u001b[0;34m,\u001b[0m\u001b[0;34m\u001b[0m\u001b[0;34m\u001b[0m\u001b[0m\n\u001b[0;32m--> 423\u001b[0;31m             \u001b[0moutput_attentions\u001b[0m\u001b[0;34m=\u001b[0m\u001b[0moutput_attentions\u001b[0m\u001b[0;34m,\u001b[0m\u001b[0;34m\u001b[0m\u001b[0;34m\u001b[0m\u001b[0m\n\u001b[0m\u001b[1;32m    424\u001b[0m         )\n\u001b[1;32m    425\u001b[0m         \u001b[0mhidden_states\u001b[0m \u001b[0;34m=\u001b[0m \u001b[0mF\u001b[0m\u001b[0;34m.\u001b[0m\u001b[0mdropout\u001b[0m\u001b[0;34m(\u001b[0m\u001b[0mhidden_states\u001b[0m\u001b[0;34m,\u001b[0m \u001b[0mp\u001b[0m\u001b[0;34m=\u001b[0m\u001b[0mself\u001b[0m\u001b[0;34m.\u001b[0m\u001b[0mdropout\u001b[0m\u001b[0;34m,\u001b[0m \u001b[0mtraining\u001b[0m\u001b[0;34m=\u001b[0m\u001b[0mself\u001b[0m\u001b[0;34m.\u001b[0m\u001b[0mtraining\u001b[0m\u001b[0;34m)\u001b[0m\u001b[0;34m\u001b[0m\u001b[0;34m\u001b[0m\u001b[0m\n",
      "\u001b[0;32m~/anaconda3/lib/python3.7/site-packages/torch/nn/modules/module.py\u001b[0m in \u001b[0;36m_call_impl\u001b[0;34m(self, *input, **kwargs)\u001b[0m\n\u001b[1;32m    887\u001b[0m             \u001b[0mresult\u001b[0m \u001b[0;34m=\u001b[0m \u001b[0mself\u001b[0m\u001b[0;34m.\u001b[0m\u001b[0m_slow_forward\u001b[0m\u001b[0;34m(\u001b[0m\u001b[0;34m*\u001b[0m\u001b[0minput\u001b[0m\u001b[0;34m,\u001b[0m \u001b[0;34m**\u001b[0m\u001b[0mkwargs\u001b[0m\u001b[0;34m)\u001b[0m\u001b[0;34m\u001b[0m\u001b[0;34m\u001b[0m\u001b[0m\n\u001b[1;32m    888\u001b[0m         \u001b[0;32melse\u001b[0m\u001b[0;34m:\u001b[0m\u001b[0;34m\u001b[0m\u001b[0;34m\u001b[0m\u001b[0m\n\u001b[0;32m--> 889\u001b[0;31m             \u001b[0mresult\u001b[0m \u001b[0;34m=\u001b[0m \u001b[0mself\u001b[0m\u001b[0;34m.\u001b[0m\u001b[0mforward\u001b[0m\u001b[0;34m(\u001b[0m\u001b[0;34m*\u001b[0m\u001b[0minput\u001b[0m\u001b[0;34m,\u001b[0m \u001b[0;34m**\u001b[0m\u001b[0mkwargs\u001b[0m\u001b[0;34m)\u001b[0m\u001b[0;34m\u001b[0m\u001b[0;34m\u001b[0m\u001b[0m\n\u001b[0m\u001b[1;32m    890\u001b[0m         for hook in itertools.chain(\n\u001b[1;32m    891\u001b[0m                 \u001b[0m_global_forward_hooks\u001b[0m\u001b[0;34m.\u001b[0m\u001b[0mvalues\u001b[0m\u001b[0;34m(\u001b[0m\u001b[0;34m)\u001b[0m\u001b[0;34m,\u001b[0m\u001b[0;34m\u001b[0m\u001b[0;34m\u001b[0m\u001b[0m\n",
      "\u001b[0;32m~/anaconda3/lib/python3.7/site-packages/transformers/models/pegasus/modeling_pegasus.py\u001b[0m in \u001b[0;36mforward\u001b[0;34m(self, hidden_states, key_value_states, past_key_value, attention_mask, layer_head_mask, output_attentions)\u001b[0m\n\u001b[1;32m    203\u001b[0m             \u001b[0mvalue_states\u001b[0m \u001b[0;34m=\u001b[0m \u001b[0mself\u001b[0m\u001b[0;34m.\u001b[0m\u001b[0m_shape\u001b[0m\u001b[0;34m(\u001b[0m\u001b[0mself\u001b[0m\u001b[0;34m.\u001b[0m\u001b[0mv_proj\u001b[0m\u001b[0;34m(\u001b[0m\u001b[0mhidden_states\u001b[0m\u001b[0;34m)\u001b[0m\u001b[0;34m,\u001b[0m \u001b[0;34m-\u001b[0m\u001b[0;36m1\u001b[0m\u001b[0;34m,\u001b[0m \u001b[0mbsz\u001b[0m\u001b[0;34m)\u001b[0m\u001b[0;34m\u001b[0m\u001b[0;34m\u001b[0m\u001b[0m\n\u001b[1;32m    204\u001b[0m             \u001b[0mkey_states\u001b[0m \u001b[0;34m=\u001b[0m \u001b[0mtorch\u001b[0m\u001b[0;34m.\u001b[0m\u001b[0mcat\u001b[0m\u001b[0;34m(\u001b[0m\u001b[0;34m[\u001b[0m\u001b[0mpast_key_value\u001b[0m\u001b[0;34m[\u001b[0m\u001b[0;36m0\u001b[0m\u001b[0;34m]\u001b[0m\u001b[0;34m,\u001b[0m \u001b[0mkey_states\u001b[0m\u001b[0;34m]\u001b[0m\u001b[0;34m,\u001b[0m \u001b[0mdim\u001b[0m\u001b[0;34m=\u001b[0m\u001b[0;36m2\u001b[0m\u001b[0;34m)\u001b[0m\u001b[0;34m\u001b[0m\u001b[0;34m\u001b[0m\u001b[0m\n\u001b[0;32m--> 205\u001b[0;31m             \u001b[0mvalue_states\u001b[0m \u001b[0;34m=\u001b[0m \u001b[0mtorch\u001b[0m\u001b[0;34m.\u001b[0m\u001b[0mcat\u001b[0m\u001b[0;34m(\u001b[0m\u001b[0;34m[\u001b[0m\u001b[0mpast_key_value\u001b[0m\u001b[0;34m[\u001b[0m\u001b[0;36m1\u001b[0m\u001b[0;34m]\u001b[0m\u001b[0;34m,\u001b[0m \u001b[0mvalue_states\u001b[0m\u001b[0;34m]\u001b[0m\u001b[0;34m,\u001b[0m \u001b[0mdim\u001b[0m\u001b[0;34m=\u001b[0m\u001b[0;36m2\u001b[0m\u001b[0;34m)\u001b[0m\u001b[0;34m\u001b[0m\u001b[0;34m\u001b[0m\u001b[0m\n\u001b[0m\u001b[1;32m    206\u001b[0m         \u001b[0;32melse\u001b[0m\u001b[0;34m:\u001b[0m\u001b[0;34m\u001b[0m\u001b[0;34m\u001b[0m\u001b[0m\n\u001b[1;32m    207\u001b[0m             \u001b[0;31m# self_attention\u001b[0m\u001b[0;34m\u001b[0m\u001b[0;34m\u001b[0m\u001b[0;34m\u001b[0m\u001b[0m\n",
      "\u001b[0;31mRuntimeError\u001b[0m: CUDA out of memory. Tried to allocate 20.00 MiB (GPU 0; 11.17 GiB total capacity; 10.38 GiB already allocated; 15.44 MiB free; 10.72 GiB reserved in total by PyTorch)"
     ]
    }
   ],
   "source": [
    "#run model in parallel\n",
    "model = nn.DataParallel(model)\n",
    "\n",
    "#loss_fn = nn.CrossEntropyLoss()\n",
    "loss_fn = torch.nn.MSELoss()\n",
    "\n",
    "for param in aa.parameters():\n",
    "    param.requires_grad = True\n",
    "\n",
    "lr = 5.0 # learning rate\n",
    "optimizer = torch.optim.SGD(aa.parameters(), lr=lr)\n",
    "scheduler = torch.optim.lr_scheduler.StepLR(optimizer, 1.0, gamma=0.95)\n",
    "ntokens = tokenizer.vocab_size\n",
    "ts = time.time()\n",
    "for i in range(len(papers)):\n",
    "    \n",
    "    batch = tokenizer(df.fulltext[i], truncation=True, padding='longest', return_tensors=\"pt\").to(device)\n",
    "    \n",
    "    out = pt_model.generate(return_dict_in_generate=True, **batch)\n",
    "    \n",
    "    try:\n",
    "        pred = aa.forward(out)\n",
    "    except Exception as e:\n",
    "        print(e)\n",
    "        continue\n",
    "    \n",
    "    y = tokenizer(df.summary[i], truncation=True, padding='longest', return_tensors=\"pt\").to(device)\n",
    "    y = y[\"input_ids\"]\n",
    "    y = summary2tensor(y, batch_size=1024, vocab_size=tokenizer.vocab_size)\n",
    "    #print(pred.shape, y.shape)\n",
    "    #print(pred)\n",
    "    loss = loss_fn(pred, y)\n",
    "    print(\"{} {}\".format(i, loss.item()))\n",
    "    loss.backward()\n",
    "    optimizer.step()\n",
    "    \n",
    "    if i % 10 == 0:\n",
    "        torch.save(aa.state_dict(), \"data/a1_model.state\")\n",
    "        print(\"Iteration {} model saved\".format(i))\n",
    "\n",
    "te = time.time() \n",
    "print(\"Completed in {} seconds\".format(int(te-ts)))"
   ]
  },
  {
   "cell_type": "code",
   "execution_count": null,
   "id": "usual-promise",
   "metadata": {},
   "outputs": [],
   "source": [
    "#tgt_text = tokenizer.batch_decode(ids, skip_special_tokens=True)\n",
    "#print(\" \".join(tgt_text))"
   ]
  },
  {
   "cell_type": "code",
   "execution_count": null,
   "id": "developmental-ukraine",
   "metadata": {},
   "outputs": [],
   "source": [
    "#save the model to disk\n",
    "#torch.save(aa.state_dict(), \"data/aa_model.state\")"
   ]
  },
  {
   "cell_type": "code",
   "execution_count": 18,
   "id": "laughing-sigma",
   "metadata": {},
   "outputs": [],
   "source": [
    "def decode_output(pred):\n",
    "    ids = []\n",
    "    for x in pred:\n",
    "        pred_id = torch.argmax(x)\n",
    "        ids.append(pred_id)\n",
    "    return ids"
   ]
  },
  {
   "cell_type": "code",
   "execution_count": 19,
   "id": "color-israeli",
   "metadata": {},
   "outputs": [
    {
     "name": "stderr",
     "output_type": "stream",
     "text": [
      "/home/ubuntu/anaconda3/lib/python3.7/site-packages/ipykernel_launcher.py:43: UserWarning: To copy construct from a tensor, it is recommended to use sourceTensor.clone().detach() or sourceTensor.clone().detach().requires_grad_(True), rather than torch.tensor(sourceTensor).\n"
     ]
    },
    {
     "name": "stdout",
     "output_type": "stream",
     "text": [
      "42 Volcano TAC cesium 42 studied cesium studied Out TAC bluetooth Malwarebytes Malwarebytes studied 42 Malwarebytes 42 studied Malwarebytes Stenographer 42 studied moisturiser moisturiser 42 hier TAC Acqui 42 cesium 42 studied Malwarebytes 42 studied 42 Acqui Malwarebytes Malwarebytes Malwarebytes Malwarebytes moisturiser TAC robin Malwarebytes Malwarebytes Volcano yards yards studied 42 cesium studied 42 42 studied TAC 42 studied 42 TAC Malwarebytes TAC Malwarebytes robin moisturiser studied telugu 42 42 Malwarebytes Sheds studied studied 42 42 42 studied studied yards 42 studied studied studied studied 42 moisturiser 42 yards cesium moisturiser Volcano moisturiser 42 rot studied 42 studied Malwarebytes Volcano studied 42 studied Malwarebytes implicate cesium Malwarebytes bookcase 42 studied 42 studied studied robin TAC TAC Sheds 42 wired 42 bookcase studied studied TAC telugu Acqui Sheds Malwarebytes studied TAC studied telugu TAC shuffle telugu 42 cesium 42 TAC 42 TAC studied Volcano studied yards 42 TAC 42 robin 42 42 telugu Out Malwarebytes studied Malwarebytes Malwarebytes TAC 42 Malwarebytes 42 cesium telugu Volcano 42 studied $1 Malwarebytes Malwarebytes TAC 42 studied Volcano Malwarebytes studied Volcano yards studied studied Malwarebytes telugu Malwarebytes studied 42 telugu studied Malwarebytes moisturiser 42 Out Malwarebytes 42 42 Malwarebytes moisturiser 42 Malwarebytes TAC 42 telugu studied studied moisturiser studied 42 Malwarebytes TAC bookcase moisturiser 42 TAC studied studied telugu studied Malwarebytes studied Malwarebytes 42 moisturiser Acqui 42 studied 42 studied moisturiser TAC studied 42 42 telugu 42 moisturiser Acqui studied TAC cesium Malwarebytes 42 studied yards 42 Malwarebytes Volcano 42 cesium studied TAC hier studied studied Malwarebytes studied telugu Malwarebytes 42 TAC 42 Volcano 42 studied 42 telugu 42 42 TAC wired Sheds studied studied 42 Malwarebytes 42 42 wired 42 robin TAC 42 42 42 moisturiser robin telugu yards 42 Malwarebytes Sheds moisturiser telugu 42 robin Malwarebytes 42 cesium yards Volcano 42 TAC studied 42 moisturiser Volcano 42 42 42 42 robin 42 studied Volcano Malwarebytes moisturiser studied Malwarebytes Volcano hier TAC studied studied 42 42 TAC 42 Volcano studied blow 42 Malwarebytes Malwarebytes Malwarebytes 42 TAC studied Volcano 42 moisturiser TAC Malwarebytes 42 studied wired studied Malwarebytes studied 42 42 42 Volcano studied Malwarebytes telugu 42 Volcano studied Malwarebytes studied studied 42 telugu TAC robin cesium 42 bookcase Malwarebytes Malwarebytes Malwarebytes studied Malwarebytes studied $1 TAC TAC 42 telugu telugu studied 42 cesium 42 cesium studied 42 studied Malwarebytes 42 42 studied Malwarebytes studied debugging telugu studied moisturiser 42 studied moisturiser yards 42 TAC 42 studied studied 42 42 studied telugu Volcano studied 42 42 studied moisturiser studied Malwarebytes 42 Malwarebytes Volcano Out 42 TAC studied telugu Malwarebytes bookcase studied Malwarebytes studied studied TAC TAC telugu moisturiser 42 42 studied moisturiser TAC 42 studied studied 42 42 studied studied cesium TAC 42 studied 42 42 TAC Sheds studied studied Volcano Malwarebytes studied studied studied studied Malwarebytes Malwarebytes studied Volcano studied Malwarebytes robin TAC 42 42 42 yards moisturiser studied TAC 42 studied studied cesium 42 studied 42 Malwarebytes Malwarebytes 42 studied robin Malwarebytes 42 Volcano telugu debugging telugu moisturiser 42 robin 42 TAC studied telugu studied studied 42 42 42 TAC Malwarebytes 42 Volcano studied 42 TAC TAC 42 studied TAC studied 42 studied Stenographer TAC studied Malwarebytes studied TAC TAC 42 42 cesium Kuz Out Volcano Malwarebytes Out TAC 42 studied studied studied moisturiser 42 cesium telugu telugu studied studied 42 Malwarebytes studied studied studied 42 42 Malwarebytes 42 42 moisturiser Volcano 42 yards 42 Volcano blow 42 Volcano 42 robin yards Sheds studied moisturiser Malwarebytes Volcano 42 moisturiser robin telugu Malwarebytes cesium Malwarebytes Volcano studied 42 studied 42 moisturiser moisturiser telugu TAC 42 42 Detox studied hier Sheds robin Out 42 Malwarebytes studied Volcano studied KF telugu 42 42 42 cesium Malwarebytes Malwarebytes implicate Acqui studied studied Malwarebytes studied studied TAC Volcano TAC 42 studied 42 studied telugu studied 42 Volcano 42 42 Malwarebytes 42 Malwarebytes Volcano Malwarebytes TAC 42 Volcano Knee telugu studied 42 studied TAC 42 42 42 studied studied 42 debugging 42 studied Acqui studied moisturiser Malwarebytes 42 telugu implicate moisturiser 42 Volcano TAC shuffle telugu 42 moisturiser yards Malwarebytes TAC Malwarebytes brokerage TAC studied 42 Malwarebytes studied wired Volcano Malwarebytes studied robin 42 Exemplary Malwarebytes telugu Malwarebytes studied Malwarebytes studied 42 robin studied 42 moisturiser hier Malwarebytes Volcano Volcano moisturiser Malwarebytes 42 moisturiser Malwarebytes Malwarebytes TAC Sheds 42 studied TAC 42 cesium TAC Acqui Acqui studied yards studied Acqui blow Malwarebytes 42 42 Malwarebytes 42 Malwarebytes studied moisturiser Malwarebytes Malwarebytes studied KF moisturiser studied 42 studied TAC Malwarebytes studied studied studied robin moisturiser 42 studied studied studied Malwarebytes yards telugu 42 42 moisturiser yards Malwarebytes Malwarebytes studied studied studied Malwarebytes robin 42 TAC telugu Malwarebytes 42 bookcase TAC 42 42 studied studied studied Malwarebytes Malwarebytes 42 cesium 42 cesium 42 Malwarebytes 42 studied Hunting TAC TAC TAC studied telugu Malwarebytes 42 implicate hier moisturiser studied studied studied bluetooth studied moisturiser studied telugu Volcano Malwarebytes studied 42 debugging Malwarebytes studied 42 42 yards 42 Minnie 42 Malwarebytes studied oysters studied telugu Malwarebytes studied Malwarebytes TAC yards studied Volcano 42 studied telugu 42 Volcano Malwarebytes yards 42 42 Sheds Malwarebytes studied TAC Out TAC 42 studied Volcano studied debugging Malwarebytes 42 TAC 42 42 studied Acqui Volcano 42 hier studied 42 Volcano 42 Sheds studied 42 Volcano studied robin Malwarebytes implicate 42 studied Malwarebytes 42 TAC studied Malwarebytes studied 42 studied 42 telugu brokerage Malwarebytes studied Malwarebytes aves 42 42 TAC Volcano Malwarebytes Sheds TAC Malwarebytes studied 42 42 TAC TAC studied TAC studied TAC 42 42 TAC telugu studied 42 42 Malwarebytes studied 42 studied 42 moisturiser studied yards studied 42 studied 42 studied 42 studied studied 42 studied TAC Volcano TAC 42 moisturiser Volcano Malwarebytes Malwarebytes moisturiser 42 42 42 Volcano Sheds Volcano studied moisturiser studied 42 moisturiser robin moisturiser 42 TAC studied eulogy 42 42 42 moisturiser 42 bookcase TAC 42 Volcano 42 telugu studied Malwarebytes Malwarebytes yards studied studied studied TAC Malwarebytes Malwarebytes 42 bookcase Malwarebytes studied Volcano yards 42 Sheds 42 robin TAC robin Acqui 42 TAC studied Knee robin bookcase TAC studied 42 Volcano 42 studied 42 42 Malwarebytes studied studied robin 42 Malwarebytes telugu 42 42 42 studied TAC moisturiser studied Malwarebytes 42 42 robin telugu\n"
     ]
    }
   ],
   "source": [
    "#example generate summary from fulltext\n",
    "summary, fulltext = df.summary[3], df.fulltext[3]\n",
    "batch = tokenizer(fulltext, truncation=True, padding='longest', return_tensors=\"pt\").to(device)\n",
    "out = pt_model.generate(return_dict_in_generate=True, **batch)\n",
    "pred = aa.forward(out)\n",
    "ids = decode_output(pred)\n",
    "tgt_text = tokenizer.batch_decode(ids, skip_special_tokens=True)\n",
    "tgt_text = \" \".join(tgt_text)\n",
    "print(tgt_txt)"
   ]
  },
  {
   "cell_type": "code",
   "execution_count": 23,
   "id": "express-twist",
   "metadata": {},
   "outputs": [
    {
     "data": {
      "text/plain": [
       "{'rouge1': Score(precision=0.03676470588235294, recall=0.0008163265306122449, fmeasure=0.0015971889474524835),\n",
       " 'rouge2': Score(precision=0.0, recall=0.0, fmeasure=0.0)}"
      ]
     },
     "execution_count": 23,
     "metadata": {},
     "output_type": "execute_result"
    }
   ],
   "source": [
    "tgt_text = \" \".join(tgt_text)\n",
    "\n",
    "score = scorer.score(tgt_text, summary)\n",
    "score"
   ]
  },
  {
   "cell_type": "code",
   "execution_count": null,
   "id": "nonprofit-masters",
   "metadata": {},
   "outputs": [],
   "source": []
  },
  {
   "cell_type": "code",
   "execution_count": null,
   "id": "flying-testing",
   "metadata": {},
   "outputs": [],
   "source": []
  },
  {
   "cell_type": "code",
   "execution_count": null,
   "id": "powered-ambassador",
   "metadata": {},
   "outputs": [],
   "source": []
  },
  {
   "cell_type": "code",
   "execution_count": null,
   "id": "provincial-minimum",
   "metadata": {},
   "outputs": [],
   "source": []
  },
  {
   "cell_type": "code",
   "execution_count": null,
   "id": "interested-geneva",
   "metadata": {},
   "outputs": [],
   "source": []
  },
  {
   "cell_type": "code",
   "execution_count": 61,
   "id": "sound-register",
   "metadata": {},
   "outputs": [],
   "source": []
  },
  {
   "cell_type": "code",
   "execution_count": 62,
   "id": "tutorial-scottish",
   "metadata": {},
   "outputs": [],
   "source": []
  },
  {
   "cell_type": "code",
   "execution_count": 63,
   "id": "fantastic-depression",
   "metadata": {},
   "outputs": [],
   "source": []
  },
  {
   "cell_type": "code",
   "execution_count": null,
   "id": "framed-charge",
   "metadata": {},
   "outputs": [],
   "source": []
  },
  {
   "cell_type": "code",
   "execution_count": null,
   "id": "aboriginal-nebraska",
   "metadata": {},
   "outputs": [],
   "source": []
  },
  {
   "cell_type": "code",
   "execution_count": null,
   "id": "afraid-convergence",
   "metadata": {},
   "outputs": [],
   "source": []
  }
 ],
 "metadata": {
  "kernelspec": {
   "display_name": "Python 3",
   "language": "python",
   "name": "python3"
  },
  "language_info": {
   "codemirror_mode": {
    "name": "ipython",
    "version": 3
   },
   "file_extension": ".py",
   "mimetype": "text/x-python",
   "name": "python",
   "nbconvert_exporter": "python",
   "pygments_lexer": "ipython3",
   "version": "3.7.10"
  }
 },
 "nbformat": 4,
 "nbformat_minor": 5
}
