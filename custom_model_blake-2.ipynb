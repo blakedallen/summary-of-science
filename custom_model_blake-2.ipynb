{
 "cells": [
  {
   "cell_type": "code",
   "execution_count": 1,
   "metadata": {},
   "outputs": [
    {
     "name": "stdout",
     "output_type": "stream",
     "text": [
      "env: CUDA_LAUNCH_BLOCKING=1\n"
     ]
    }
   ],
   "source": [
    "%env CUDA_LAUNCH_BLOCKING=1"
   ]
  },
  {
   "cell_type": "code",
   "execution_count": 2,
   "metadata": {},
   "outputs": [],
   "source": [
    "import os\n",
    "import json\n",
    "import torch\n",
    "import torch.nn as nn\n",
    "import torch.nn.functional as F\n",
    "import re\n",
    "\n",
    "from tensorflow import keras\n",
    "from tensorflow.keras import layers\n",
    "\n",
    "import pandas as pd\n",
    "from transformers import PegasusForConditionalGeneration, PegasusTokenizer, PegasusConfig\n",
    "import matplotlib.pyplot as plt\n",
    "from rouge_score import rouge_scorer\n"
   ]
  },
  {
   "cell_type": "code",
   "execution_count": 3,
   "metadata": {},
   "outputs": [],
   "source": [
    "#globals\n",
    "MAX_LENGTH = 1024\n",
    "device = torch.device(\"cuda\" if torch.cuda.is_available() else \"cpu\")\n"
   ]
  },
  {
   "cell_type": "code",
   "execution_count": 4,
   "metadata": {},
   "outputs": [],
   "source": [
    "#dataset and tokenizer building\n",
    "#load our 10k data into a dataframe\n",
    "limit = 10\n",
    "papers = []\n",
    "for root, dirs, files in os.walk(\"./data/mini_10k\"):\n",
    "    for f in files:\n",
    "        fn = root+\"/\"+f\n",
    "        with open(fn) as jsonfile:\n",
    "            d = json.load(jsonfile)\n",
    "        papers.append(d)\n",
    "        \n",
    "        if len(papers) >= limit:\n",
    "            break\n",
    "    if len(papers) >= limit:\n",
    "        break\n",
    "df = pd.DataFrame(papers)"
   ]
  },
  {
   "cell_type": "code",
   "execution_count": 5,
   "metadata": {},
   "outputs": [],
   "source": [
    "#load our rouge scorer\n",
    "scorer = rouge_scorer.RougeScorer(['rougeL'], use_stemmer=True)"
   ]
  },
  {
   "cell_type": "code",
   "execution_count": 6,
   "metadata": {},
   "outputs": [],
   "source": [
    "#load our pretrained model\n",
    "model_name = 'google/pegasus-large'\n",
    "tokenizer = PegasusTokenizer.from_pretrained(model_name)\n",
    "config = PegasusConfig.from_pretrained(model_name, output_hidden_states=True, output_attentions=True)  \n",
    "pt_model = PegasusForConditionalGeneration.from_pretrained(model_name, config=config).to(device)"
   ]
  },
  {
   "cell_type": "code",
   "execution_count": 7,
   "metadata": {},
   "outputs": [
    {
     "name": "stdout",
     "output_type": "stream",
     "text": [
      "dict_keys(['input_ids', 'attention_mask'])\n"
     ]
    }
   ],
   "source": [
    "#example batch (size 1)\n",
    "batch = tokenizer(df.fulltext[3], truncation=True, padding='longest', return_tensors=\"pt\").to(device)\n",
    "print(batch.keys())"
   ]
  },
  {
   "cell_type": "code",
   "execution_count": 8,
   "metadata": {},
   "outputs": [
    {
     "name": "stdout",
     "output_type": "stream",
     "text": [
      "odict_keys(['sequences', 'encoder_attentions', 'encoder_hidden_states', 'decoder_attentions', 'decoder_hidden_states'])\n",
      "17\n"
     ]
    }
   ],
   "source": [
    "#example pretrained generation with keys\n",
    "out = pt_model.generate(return_dict_in_generate=True, **batch)\n",
    "print(out.keys())\n",
    "print(len(out[\"encoder_hidden_states\"]))"
   ]
  },
  {
   "cell_type": "code",
   "execution_count": 15,
   "metadata": {},
   "outputs": [
    {
     "name": "stdout",
     "output_type": "stream",
     "text": [
      "PreTrainedTokenizer(name_or_path='google/pegasus-large', vocab_size=96103, model_max_len=1024, is_fast=False, padding_side='right', special_tokens={'eos_token': '</s>', 'unk_token': '<unk>', 'pad_token': '<pad>', 'mask_token': '<mask_2>', 'additional_special_tokens': ['<mask_1>', '<unk_2>', '<unk_3>', '<unk_4>', '<unk_5>', '<unk_6>', '<unk_7>', '<unk_8>', '<unk_9>', '<unk_10>', '<unk_11>', '<unk_12>', '<unk_13>', '<unk_14>', '<unk_15>', '<unk_16>', '<unk_17>', '<unk_18>', '<unk_19>', '<unk_20>', '<unk_21>', '<unk_22>', '<unk_23>', '<unk_24>', '<unk_25>', '<unk_26>', '<unk_27>', '<unk_28>', '<unk_29>', '<unk_30>', '<unk_31>', '<unk_32>', '<unk_33>', '<unk_34>', '<unk_35>', '<unk_36>', '<unk_37>', '<unk_38>', '<unk_39>', '<unk_40>', '<unk_41>', '<unk_42>', '<unk_43>', '<unk_44>', '<unk_45>', '<unk_46>', '<unk_47>', '<unk_48>', '<unk_49>', '<unk_50>', '<unk_51>', '<unk_52>', '<unk_53>', '<unk_54>', '<unk_55>', '<unk_56>', '<unk_57>', '<unk_58>', '<unk_59>', '<unk_60>', '<unk_61>', '<unk_62>', '<unk_63>', '<unk_64>', '<unk_65>', '<unk_66>', '<unk_67>', '<unk_68>', '<unk_69>', '<unk_70>', '<unk_71>', '<unk_72>', '<unk_73>', '<unk_74>', '<unk_75>', '<unk_76>', '<unk_77>', '<unk_78>', '<unk_79>', '<unk_80>', '<unk_81>', '<unk_82>', '<unk_83>', '<unk_84>', '<unk_85>', '<unk_86>', '<unk_87>', '<unk_88>', '<unk_89>', '<unk_90>', '<unk_91>', '<unk_92>', '<unk_93>', '<unk_94>', '<unk_95>', '<unk_96>', '<unk_97>', '<unk_98>', '<unk_99>', '<unk_100>', '<unk_101>', '<unk_102>']})\n"
     ]
    }
   ],
   "source": [
    "print(tokenizer)"
   ]
  },
  {
   "cell_type": "code",
   "execution_count": 16,
   "metadata": {},
   "outputs": [
    {
     "data": {
      "text/plain": [
       "('data/tokenizer/tokenizer_config.json',\n",
       " 'data/tokenizer/special_tokens_map.json',\n",
       " 'data/tokenizer/spiece.model',\n",
       " 'data/tokenizer/added_tokens.json')"
      ]
     },
     "execution_count": 16,
     "metadata": {},
     "output_type": "execute_result"
    }
   ],
   "source": [
    "tokenizer.save_pretrained(\"data/tokenizer/\")"
   ]
  },
  {
   "cell_type": "code",
   "execution_count": 9,
   "metadata": {},
   "outputs": [],
   "source": [
    "#pytorch model, difficult to train due to lack of appropriate loss function\n",
    "#\n",
    "class AttentionAttention(nn.Module):\n",
    "    def __init__(self,  \n",
    "                 vocab_size=32000, \n",
    "                 input_size=1024, \n",
    "                 target_size=256):\n",
    "        super(AttentionAttention, self).__init__()\n",
    "        \n",
    "        \n",
    "        #attn head1\n",
    "        self.ah1_1 = nn.Linear(input_size, target_size)\n",
    "        self.ah1_2 = nn.Linear(target_size, target_size//2)\n",
    "        self.ah1_3 = nn.Linear(target_size//2, target_size//4)\n",
    "        \n",
    "        #attn head2\n",
    "        self.ah2_1 = nn.Linear(input_size, target_size)\n",
    "        self.ah2_2 = nn.Linear(target_size, target_size//2)\n",
    "        self.ah2_3 = nn.Linear(target_size//2, target_size//4)\n",
    "        \n",
    "        #attn head3\n",
    "        self.ah3_1 = nn.Linear(input_size, target_size)\n",
    "        self.ah3_2 = nn.Linear(target_size, target_size//2)\n",
    "        self.ah3_3 = nn.Linear(target_size//2, target_size//4)\n",
    "        \n",
    "        #attn head4\n",
    "        self.ah4_1 = nn.Linear(input_size, target_size)\n",
    "        self.ah4_2 = nn.Linear(target_size, target_size//2)\n",
    "        self.ah4_3 = nn.Linear(target_size//2, target_size//4)\n",
    " \n",
    "        #compression layer\n",
    "        self.fc_comp = nn.Linear(target_size, target_size)\n",
    "        \n",
    "        #output head\n",
    "        self.fc_out = nn.Linear(target_size, vocab_size)\n",
    "        \n",
    "        #dropout layer\n",
    "        self.do = nn.Dropout(p=0.2)\n",
    "            \n",
    "        #mapping variable\n",
    "        self.node2attn = {}\n",
    "        \n",
    "    def forward(self, out, print_attn=False):\n",
    "        \n",
    "        \n",
    "        assert(len(out[\"encoder_attentions\"])==16)\n",
    "        \n",
    "        #initialize a random tensor as our 'shallow' attn\n",
    "        shallow_attn1 = torch.rand((1024,1024), requires_grad=True).to(device)\n",
    "        shallow_attn2 = torch.rand((1024,1024), requires_grad=True).to(device)\n",
    "        shallow_attn3 = torch.rand((1024,1024), requires_grad=True).to(device)\n",
    "        shallow_attn4 = torch.rand((1024,1024), requires_grad=True).to(device)\n",
    "        \n",
    "        #pull only from these attn layers\n",
    "        self.node2attn = {\n",
    "            0:shallow_attn1,\n",
    "            1:shallow_attn2,\n",
    "            2:shallow_attn3,\n",
    "            4:shallow_attn4,\n",
    "        }\n",
    "        \n",
    "        for i,attn in enumerate(out[\"encoder_attentions\"]):\n",
    "            if i not in self.node2attn:\n",
    "                continue\n",
    "            \n",
    "            for j,block in enumerate(attn[0]):\n",
    "                attn = torch.tensor(block).to(device)\n",
    "                \n",
    "                #get our shallow attn tensor (right now just noise)\n",
    "                shallow_attn = self.node2attn[i]\n",
    "                \n",
    "                #experiment 0\n",
    "                #add our attention to the noise\n",
    "                shallow_attn = shallow_attn.add(attn)\n",
    "                \n",
    "                # experiment 1, ab,cd->bc\n",
    "                #shallow_attn = torch.einsum(\"ab,cd->bc\", shallow_attn, attn)\n",
    "                \n",
    "                #experiment 2, ab,cd->ad\n",
    "                shallow_attn = torch.einsum(\"ab,cd->ad\", shallow_attn, attn)\n",
    "                \n",
    "                #optional debug, print attn\n",
    "                if print_attn:\n",
    "                    plt.matshow(shallow_attn.cpu().detach().numpy())\n",
    "                    plt.show()\n",
    "                \n",
    "                \n",
    "                \n",
    "                #just take the first shallow attn\n",
    "                #break out from inner loop\n",
    "                break\n",
    "                    \n",
    "        \n",
    "        \n",
    "        #values,indices = torch.sort(global_attn)\n",
    "        \n",
    "        \n",
    "        #learn from shallow_attn1\n",
    "        x1 = F.relu(self.ah1_1(shallow_attn1))\n",
    "        x1 = F.relu(self.ah1_2(x1))\n",
    "        x1 = F.relu(self.ah1_3(x1))\n",
    "        \n",
    "        #learn from shallow_attn2\n",
    "        x2 = F.relu(self.ah2_1(shallow_attn2))\n",
    "        x2 = F.relu(self.ah2_2(x2))\n",
    "        x2 = F.relu(self.ah2_3(x2))\n",
    "        \n",
    "        #learn from shallow_attn3\n",
    "        x3 = F.relu(self.ah3_1(shallow_attn3))\n",
    "        x3 = F.relu(self.ah3_2(x3))\n",
    "        x3 = F.relu(self.ah3_3(x3))\n",
    "        \n",
    "        #learn from shallow_attn4\n",
    "        x4 = F.relu(self.ah4_1(shallow_attn4))\n",
    "        x4 = F.relu(self.ah4_2(x4))\n",
    "        x4 = F.relu(self.ah4_3(x4))\n",
    "                \n",
    "        #concatenate all heads\n",
    "        #print(x1.shape, x2.shape, x3.shape)\n",
    "        x_concat = torch.cat((x1,x2,x3,x4), 1)\n",
    "        \n",
    "        print(x_concat.shape)\n",
    "\n",
    "        x = F.relu(self.fc_comp(x_concat))\n",
    "        \n",
    "        #add dropout\n",
    "        x = self.do(x)\n",
    "        \n",
    "        #run through our final output layer\n",
    "        x = F.relu(self.fc_out(x))\n",
    "        \n",
    "        print(x.shape)\n",
    "\n",
    "        return x"
   ]
  },
  {
   "cell_type": "code",
   "execution_count": null,
   "metadata": {},
   "outputs": [],
   "source": [
    "\n",
    "#keras model definition\n",
    "input_attn1 = keras.Input(shape=(1024,1024))\n",
    "x1 = layers.Dense(1024, activation=\"relu\")(input_attn1)\n",
    "x1 = layers.Dense(256, activation=\"relu\")(x1)\n",
    "x1 = layers.Dense(128, activation=\"relu\")(x1)\n",
    "\n",
    "input_attn2 = keras.Input(shape=(1024,1024))\n",
    "x2 = layers.Dense(1024, activation=\"relu\")(input_attn2)\n",
    "x2 = layers.Dense(256, activation=\"relu\")(x2)\n",
    "x2 = layers.Dense(128, activation=\"relu\")(x2)\n",
    "\n",
    "concat = layers.Concatenate(axis=0, [x1,x2])\n",
    "x3 = layers.Dense(256, activation=\"relu\")(concat)\n",
    "x3 = layers.Dense(128, activation=\"relu\")(x3)\n",
    "\n",
    "outputs = layers.Dense(tokenizer.vocab_size, activation=\"softmax\")(x3)\n",
    "\n",
    "model = keras.Model(inputs=[input_attn1, input_attn2], outputs=outputs, name=\"summary_model\")\n",
    "\n"
   ]
  },
  {
   "cell_type": "code",
   "execution_count": 10,
   "metadata": {},
   "outputs": [],
   "source": [
    "def tensor2ids(t):\n",
    "    ids = []\n",
    "    for x in pred:\n",
    "        pred_id = np.argmax(x)\n",
    "        ids.append(pred_id)\n",
    "    return ids\n",
    "\n",
    "def tensor2text(t):\n",
    "    ids = tensor2ids(t)\n",
    "    tgt_text = tokenizer.batch_decode(ids, skip_special_tokens=True)\n",
    "    tgt_text = \" \".join(tgt_text[0])\n",
    "    return tgt_text\n",
    "\n",
    "#custom keras loss function\n",
    "def rouge_loss(y_pred, y_true):\n",
    "    pred_text = tensor2text(y_pred)\n",
    "    true_text = tensor2text(y_true)\n",
    "    score = scorer.score(pred_text, true_text)\n",
    "    #return recall as the metric\n",
    "    return score[\"rougeL\"][1]\n"
   ]
  },
  {
   "cell_type": "code",
   "execution_count": null,
   "metadata": {},
   "outputs": [],
   "source": []
  },
  {
   "cell_type": "code",
   "execution_count": 12,
   "metadata": {},
   "outputs": [],
   "source": [
    "def summary2tensor(summary, batch_size=1, vocab_size=32000):\n",
    "    z = torch.zeros(batch_size,vocab_size).to(device)\n",
    "    for i,wid in enumerate(summary):   \n",
    "        z[i][wid] = 1.0 \n",
    "    return z\n",
    "\n",
    "\n",
    "def pred2tensor(pred):\n",
    "    ids = []\n",
    "    for r in pred:\n",
    "        idx = torch.argmax(r)\n",
    "        ids.append(idx)\n",
    "    return torch.tensor(ids)"
   ]
  },
  {
   "cell_type": "code",
   "execution_count": 13,
   "metadata": {},
   "outputs": [],
   "source": [
    "#load the model from disk\n",
    "#aa = AttentionAttention(vocab_size=tokenizer.vocab_size).to(device)\n",
    "#aa.load_state_dict(\"data/aa_model.state\")\n",
    "#aa.eval()"
   ]
  },
  {
   "cell_type": "code",
   "execution_count": 14,
   "metadata": {},
   "outputs": [
    {
     "name": "stderr",
     "output_type": "stream",
     "text": [
      "<ipython-input-9-a45eb6f7e8d3>:65: UserWarning: To copy construct from a tensor, it is recommended to use sourceTensor.clone().detach() or sourceTensor.clone().detach().requires_grad_(True), rather than torch.tensor(sourceTensor).\n",
      "  attn = torch.tensor(block).to(device)\n"
     ]
    },
    {
     "name": "stdout",
     "output_type": "stream",
     "text": [
      "torch.Size([1024, 256])\n",
      "torch.Size([1024, 96103])\n",
      "0 0.0009161891066469252\n"
     ]
    }
   ],
   "source": [
    "\n",
    "for i in range(len(papers)):\n",
    "    \n",
    "    batch = tokenizer(df.fulltext[i], truncation=True, padding='longest', return_tensors=\"pt\").to(device)\n",
    "    \n",
    "    out = pt_model.generate(return_dict_in_generate=True, **batch)\n",
    "    \n",
    "    try:\n",
    "        pred = aa.forward(out)\n",
    "    except Exception as e:\n",
    "        print(e)\n",
    "        continue\n",
    "    \n",
    "    y = tokenizer(df.summary[i], truncation=True, padding='longest', return_tensors=\"pt\").to(device)\n",
    "    y = y[\"input_ids\"]\n",
    "    y = summary2tensor(y, batch_size=1024, vocab_size=tokenizer.vocab_size)\n",
    "    #print(pred.shape, y.shape)\n",
    "    #print(pred)\n",
    "    loss = loss_fn(pred, y)\n",
    "    print(\"{} {}\".format(i, loss.item()))\n",
    "    loss.backward()\n",
    "    optimizer.step()\n",
    "    break\n",
    "    \n",
    "    "
   ]
  },
  {
   "cell_type": "code",
   "execution_count": null,
   "metadata": {},
   "outputs": [],
   "source": [
    "#tgt_text = tokenizer.batch_decode(ids, skip_special_tokens=True)\n",
    "#print(\" \".join(tgt_text))"
   ]
  },
  {
   "cell_type": "code",
   "execution_count": 1,
   "metadata": {},
   "outputs": [
    {
     "ename": "NameError",
     "evalue": "name 'torch' is not defined",
     "output_type": "error",
     "traceback": [
      "\u001b[0;31m---------------------------------------------------------------------------\u001b[0m",
      "\u001b[0;31mNameError\u001b[0m                                 Traceback (most recent call last)",
      "\u001b[0;32m<ipython-input-1-10168a8f1bb0>\u001b[0m in \u001b[0;36m<module>\u001b[0;34m\u001b[0m\n\u001b[1;32m      1\u001b[0m \u001b[0;31m#save state\u001b[0m\u001b[0;34m\u001b[0m\u001b[0;34m\u001b[0m\u001b[0;34m\u001b[0m\u001b[0m\n\u001b[0;32m----> 2\u001b[0;31m \u001b[0mtorch\u001b[0m\u001b[0;34m.\u001b[0m\u001b[0msave\u001b[0m\u001b[0;34m(\u001b[0m\u001b[0maa\u001b[0m\u001b[0;34m.\u001b[0m\u001b[0mstate_dict\u001b[0m\u001b[0;34m(\u001b[0m\u001b[0;34m)\u001b[0m\u001b[0;34m,\u001b[0m \u001b[0;34m\"data/aa_model.state\"\u001b[0m\u001b[0;34m)\u001b[0m\u001b[0;34m\u001b[0m\u001b[0;34m\u001b[0m\u001b[0m\n\u001b[0m\u001b[1;32m      3\u001b[0m \u001b[0;34m\u001b[0m\u001b[0m\n\u001b[1;32m      4\u001b[0m \u001b[0;31m#save params\u001b[0m\u001b[0;34m\u001b[0m\u001b[0;34m\u001b[0m\u001b[0;34m\u001b[0m\u001b[0m\n\u001b[1;32m      5\u001b[0m \u001b[0mtorch\u001b[0m\u001b[0;34m.\u001b[0m\u001b[0msave\u001b[0m\u001b[0;34m(\u001b[0m\u001b[0maa\u001b[0m\u001b[0;34m,\u001b[0m \u001b[0;34m\"data/aa_model.param\"\u001b[0m\u001b[0;34m)\u001b[0m\u001b[0;34m\u001b[0m\u001b[0;34m\u001b[0m\u001b[0m\n",
      "\u001b[0;31mNameError\u001b[0m: name 'torch' is not defined"
     ]
    }
   ],
   "source": [
    "#save the model to disk\n",
    "torch.save(aa.state_dict(), \"data/aa_model.state\")"
   ]
  },
  {
   "cell_type": "code",
   "execution_count": 18,
   "metadata": {},
   "outputs": [],
   "source": [
    "def decode_output(pred):\n",
    "    ids = []\n",
    "    for x in pred:\n",
    "        pred_id = torch.argmax(x)\n",
    "        ids.append(pred_id)\n",
    "    return ids"
   ]
  },
  {
   "cell_type": "code",
   "execution_count": 19,
   "metadata": {},
   "outputs": [
    {
     "name": "stderr",
     "output_type": "stream",
     "text": [
      "/home/ubuntu/anaconda3/lib/python3.7/site-packages/ipykernel_launcher.py:43: UserWarning: To copy construct from a tensor, it is recommended to use sourceTensor.clone().detach() or sourceTensor.clone().detach().requires_grad_(True), rather than torch.tensor(sourceTensor).\n"
     ]
    },
    {
     "name": "stdout",
     "output_type": "stream",
     "text": [
      "42 Volcano TAC cesium 42 studied cesium studied Out TAC bluetooth Malwarebytes Malwarebytes studied 42 Malwarebytes 42 studied Malwarebytes Stenographer 42 studied moisturiser moisturiser 42 hier TAC Acqui 42 cesium 42 studied Malwarebytes 42 studied 42 Acqui Malwarebytes Malwarebytes Malwarebytes Malwarebytes moisturiser TAC robin Malwarebytes Malwarebytes Volcano yards yards studied 42 cesium studied 42 42 studied TAC 42 studied 42 TAC Malwarebytes TAC Malwarebytes robin moisturiser studied telugu 42 42 Malwarebytes Sheds studied studied 42 42 42 studied studied yards 42 studied studied studied studied 42 moisturiser 42 yards cesium moisturiser Volcano moisturiser 42 rot studied 42 studied Malwarebytes Volcano studied 42 studied Malwarebytes implicate cesium Malwarebytes bookcase 42 studied 42 studied studied robin TAC TAC Sheds 42 wired 42 bookcase studied studied TAC telugu Acqui Sheds Malwarebytes studied TAC studied telugu TAC shuffle telugu 42 cesium 42 TAC 42 TAC studied Volcano studied yards 42 TAC 42 robin 42 42 telugu Out Malwarebytes studied Malwarebytes Malwarebytes TAC 42 Malwarebytes 42 cesium telugu Volcano 42 studied $1 Malwarebytes Malwarebytes TAC 42 studied Volcano Malwarebytes studied Volcano yards studied studied Malwarebytes telugu Malwarebytes studied 42 telugu studied Malwarebytes moisturiser 42 Out Malwarebytes 42 42 Malwarebytes moisturiser 42 Malwarebytes TAC 42 telugu studied studied moisturiser studied 42 Malwarebytes TAC bookcase moisturiser 42 TAC studied studied telugu studied Malwarebytes studied Malwarebytes 42 moisturiser Acqui 42 studied 42 studied moisturiser TAC studied 42 42 telugu 42 moisturiser Acqui studied TAC cesium Malwarebytes 42 studied yards 42 Malwarebytes Volcano 42 cesium studied TAC hier studied studied Malwarebytes studied telugu Malwarebytes 42 TAC 42 Volcano 42 studied 42 telugu 42 42 TAC wired Sheds studied studied 42 Malwarebytes 42 42 wired 42 robin TAC 42 42 42 moisturiser robin telugu yards 42 Malwarebytes Sheds moisturiser telugu 42 robin Malwarebytes 42 cesium yards Volcano 42 TAC studied 42 moisturiser Volcano 42 42 42 42 robin 42 studied Volcano Malwarebytes moisturiser studied Malwarebytes Volcano hier TAC studied studied 42 42 TAC 42 Volcano studied blow 42 Malwarebytes Malwarebytes Malwarebytes 42 TAC studied Volcano 42 moisturiser TAC Malwarebytes 42 studied wired studied Malwarebytes studied 42 42 42 Volcano studied Malwarebytes telugu 42 Volcano studied Malwarebytes studied studied 42 telugu TAC robin cesium 42 bookcase Malwarebytes Malwarebytes Malwarebytes studied Malwarebytes studied $1 TAC TAC 42 telugu telugu studied 42 cesium 42 cesium studied 42 studied Malwarebytes 42 42 studied Malwarebytes studied debugging telugu studied moisturiser 42 studied moisturiser yards 42 TAC 42 studied studied 42 42 studied telugu Volcano studied 42 42 studied moisturiser studied Malwarebytes 42 Malwarebytes Volcano Out 42 TAC studied telugu Malwarebytes bookcase studied Malwarebytes studied studied TAC TAC telugu moisturiser 42 42 studied moisturiser TAC 42 studied studied 42 42 studied studied cesium TAC 42 studied 42 42 TAC Sheds studied studied Volcano Malwarebytes studied studied studied studied Malwarebytes Malwarebytes studied Volcano studied Malwarebytes robin TAC 42 42 42 yards moisturiser studied TAC 42 studied studied cesium 42 studied 42 Malwarebytes Malwarebytes 42 studied robin Malwarebytes 42 Volcano telugu debugging telugu moisturiser 42 robin 42 TAC studied telugu studied studied 42 42 42 TAC Malwarebytes 42 Volcano studied 42 TAC TAC 42 studied TAC studied 42 studied Stenographer TAC studied Malwarebytes studied TAC TAC 42 42 cesium Kuz Out Volcano Malwarebytes Out TAC 42 studied studied studied moisturiser 42 cesium telugu telugu studied studied 42 Malwarebytes studied studied studied 42 42 Malwarebytes 42 42 moisturiser Volcano 42 yards 42 Volcano blow 42 Volcano 42 robin yards Sheds studied moisturiser Malwarebytes Volcano 42 moisturiser robin telugu Malwarebytes cesium Malwarebytes Volcano studied 42 studied 42 moisturiser moisturiser telugu TAC 42 42 Detox studied hier Sheds robin Out 42 Malwarebytes studied Volcano studied KF telugu 42 42 42 cesium Malwarebytes Malwarebytes implicate Acqui studied studied Malwarebytes studied studied TAC Volcano TAC 42 studied 42 studied telugu studied 42 Volcano 42 42 Malwarebytes 42 Malwarebytes Volcano Malwarebytes TAC 42 Volcano Knee telugu studied 42 studied TAC 42 42 42 studied studied 42 debugging 42 studied Acqui studied moisturiser Malwarebytes 42 telugu implicate moisturiser 42 Volcano TAC shuffle telugu 42 moisturiser yards Malwarebytes TAC Malwarebytes brokerage TAC studied 42 Malwarebytes studied wired Volcano Malwarebytes studied robin 42 Exemplary Malwarebytes telugu Malwarebytes studied Malwarebytes studied 42 robin studied 42 moisturiser hier Malwarebytes Volcano Volcano moisturiser Malwarebytes 42 moisturiser Malwarebytes Malwarebytes TAC Sheds 42 studied TAC 42 cesium TAC Acqui Acqui studied yards studied Acqui blow Malwarebytes 42 42 Malwarebytes 42 Malwarebytes studied moisturiser Malwarebytes Malwarebytes studied KF moisturiser studied 42 studied TAC Malwarebytes studied studied studied robin moisturiser 42 studied studied studied Malwarebytes yards telugu 42 42 moisturiser yards Malwarebytes Malwarebytes studied studied studied Malwarebytes robin 42 TAC telugu Malwarebytes 42 bookcase TAC 42 42 studied studied studied Malwarebytes Malwarebytes 42 cesium 42 cesium 42 Malwarebytes 42 studied Hunting TAC TAC TAC studied telugu Malwarebytes 42 implicate hier moisturiser studied studied studied bluetooth studied moisturiser studied telugu Volcano Malwarebytes studied 42 debugging Malwarebytes studied 42 42 yards 42 Minnie 42 Malwarebytes studied oysters studied telugu Malwarebytes studied Malwarebytes TAC yards studied Volcano 42 studied telugu 42 Volcano Malwarebytes yards 42 42 Sheds Malwarebytes studied TAC Out TAC 42 studied Volcano studied debugging Malwarebytes 42 TAC 42 42 studied Acqui Volcano 42 hier studied 42 Volcano 42 Sheds studied 42 Volcano studied robin Malwarebytes implicate 42 studied Malwarebytes 42 TAC studied Malwarebytes studied 42 studied 42 telugu brokerage Malwarebytes studied Malwarebytes aves 42 42 TAC Volcano Malwarebytes Sheds TAC Malwarebytes studied 42 42 TAC TAC studied TAC studied TAC 42 42 TAC telugu studied 42 42 Malwarebytes studied 42 studied 42 moisturiser studied yards studied 42 studied 42 studied 42 studied studied 42 studied TAC Volcano TAC 42 moisturiser Volcano Malwarebytes Malwarebytes moisturiser 42 42 42 Volcano Sheds Volcano studied moisturiser studied 42 moisturiser robin moisturiser 42 TAC studied eulogy 42 42 42 moisturiser 42 bookcase TAC 42 Volcano 42 telugu studied Malwarebytes Malwarebytes yards studied studied studied TAC Malwarebytes Malwarebytes 42 bookcase Malwarebytes studied Volcano yards 42 Sheds 42 robin TAC robin Acqui 42 TAC studied Knee robin bookcase TAC studied 42 Volcano 42 studied 42 42 Malwarebytes studied studied robin 42 Malwarebytes telugu 42 42 42 studied TAC moisturiser studied Malwarebytes 42 42 robin telugu\n"
     ]
    }
   ],
   "source": [
    "#example generate summary from fulltext\n",
    "summary, fulltext = df.summary[3], df.fulltext[3]\n",
    "batch = tokenizer(fulltext, truncation=True, padding='longest', return_tensors=\"pt\").to(device)\n",
    "out = pt_model.generate(return_dict_in_generate=True, **batch)\n",
    "pred = aa.forward(out)\n",
    "ids = decode_output(pred)\n",
    "tgt_text = tokenizer.batch_decode(ids, skip_special_tokens=True)\n",
    "tgt_text = \" \".join(tgt_text)\n",
    "print(tgt_txt)"
   ]
  },
  {
   "cell_type": "code",
   "execution_count": 23,
   "metadata": {},
   "outputs": [
    {
     "data": {
      "text/plain": [
       "{'rouge1': Score(precision=0.03676470588235294, recall=0.0008163265306122449, fmeasure=0.0015971889474524835),\n",
       " 'rouge2': Score(precision=0.0, recall=0.0, fmeasure=0.0)}"
      ]
     },
     "execution_count": 23,
     "metadata": {},
     "output_type": "execute_result"
    }
   ],
   "source": [
    "tgt_text = \" \".join(tgt_text)\n",
    "\n",
    "score = scorer.score(tgt_text, summary)\n",
    "score"
   ]
  },
  {
   "cell_type": "code",
   "execution_count": null,
   "metadata": {},
   "outputs": [],
   "source": []
  },
  {
   "cell_type": "code",
   "execution_count": null,
   "metadata": {},
   "outputs": [],
   "source": []
  },
  {
   "cell_type": "code",
   "execution_count": null,
   "metadata": {},
   "outputs": [],
   "source": []
  },
  {
   "cell_type": "code",
   "execution_count": null,
   "metadata": {},
   "outputs": [],
   "source": []
  },
  {
   "cell_type": "code",
   "execution_count": null,
   "metadata": {},
   "outputs": [],
   "source": []
  },
  {
   "cell_type": "code",
   "execution_count": 61,
   "metadata": {},
   "outputs": [],
   "source": []
  },
  {
   "cell_type": "code",
   "execution_count": 62,
   "metadata": {},
   "outputs": [],
   "source": []
  },
  {
   "cell_type": "code",
   "execution_count": 63,
   "metadata": {},
   "outputs": [],
   "source": []
  },
  {
   "cell_type": "code",
   "execution_count": null,
   "metadata": {},
   "outputs": [],
   "source": []
  },
  {
   "cell_type": "code",
   "execution_count": null,
   "metadata": {},
   "outputs": [],
   "source": []
  },
  {
   "cell_type": "code",
   "execution_count": null,
   "metadata": {},
   "outputs": [],
   "source": []
  }
 ],
 "metadata": {
  "kernelspec": {
   "display_name": "Python 3",
   "language": "python",
   "name": "python3"
  },
  "language_info": {
   "codemirror_mode": {
    "name": "ipython",
    "version": 3
   },
   "file_extension": ".py",
   "mimetype": "text/x-python",
   "name": "python",
   "nbconvert_exporter": "python",
   "pygments_lexer": "ipython3",
   "version": "3.8.6"
  }
 },
 "nbformat": 4,
 "nbformat_minor": 5
}
