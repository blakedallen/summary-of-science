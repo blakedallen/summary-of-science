{
 "cells": [
  {
   "cell_type": "code",
   "execution_count": 2,
   "metadata": {},
   "outputs": [],
   "source": [
    "import numpy as np\n",
    "import torch"
   ]
  },
  {
   "cell_type": "markdown",
   "metadata": {},
   "source": [
    "`torch.einsum(equation, *operands) → Tensor`\n",
    "\n",
    "Sums the product of the elements of the input operands along dimensions specified using a notation based on the Einstein summation convention.\n",
    "\n",
    "Einsum allows computing many common multi-dimensional linear algebraic array operations by representing them in a short-hand format based on the Einstein summation convention, given by equation. The details of this format are described below, but the general idea is to label every dimension of the input operands with some subscript and define which subscripts are part of the output. The output is then computed by summing the product of the elements of the operands along the dimensions whose subscripts are not part of the output. For example, matrix multiplication can be computed using einsum as torch.einsum(“ij,jk->ik”, A, B). Here, j is the summation subscript and i and k the output subscripts "
   ]
  },
  {
   "cell_type": "code",
   "execution_count": 37,
   "metadata": {},
   "outputs": [],
   "source": [
    "t1 = torch.tensor([[0,1,2],[1,1,1]])\n",
    "t2 = torch.tensor([[1,1,1],[1,2,3]])"
   ]
  },
  {
   "cell_type": "code",
   "execution_count": 38,
   "metadata": {},
   "outputs": [],
   "source": [
    "x1 = torch.einsum(\"ab,de->ae\", [t1,t2])"
   ]
  },
  {
   "cell_type": "code",
   "execution_count": 39,
   "metadata": {},
   "outputs": [
    {
     "data": {
      "text/plain": [
       "tensor([[ 6,  9, 12],\n",
       "        [ 6,  9, 12]])"
      ]
     },
     "execution_count": 39,
     "metadata": {},
     "output_type": "execute_result"
    }
   ],
   "source": [
    "x1"
   ]
  },
  {
   "cell_type": "code",
   "execution_count": 40,
   "metadata": {},
   "outputs": [],
   "source": [
    "x2 = torch.einsum(\"ab,de->bd\", [t1,t2])"
   ]
  },
  {
   "cell_type": "code",
   "execution_count": 41,
   "metadata": {},
   "outputs": [
    {
     "data": {
      "text/plain": [
       "tensor([[ 3,  6],\n",
       "        [ 6, 12],\n",
       "        [ 9, 18]])"
      ]
     },
     "execution_count": 41,
     "metadata": {},
     "output_type": "execute_result"
    }
   ],
   "source": [
    "x2"
   ]
  },
  {
   "cell_type": "code",
   "execution_count": 42,
   "metadata": {},
   "outputs": [],
   "source": [
    "x3 = torch.einsum(\"ab,de->ad\", [t1,t2])"
   ]
  },
  {
   "cell_type": "code",
   "execution_count": 43,
   "metadata": {},
   "outputs": [
    {
     "data": {
      "text/plain": [
       "tensor([[ 9, 18],\n",
       "        [ 9, 18]])"
      ]
     },
     "execution_count": 43,
     "metadata": {},
     "output_type": "execute_result"
    }
   ],
   "source": [
    "x3"
   ]
  },
  {
   "cell_type": "code",
   "execution_count": 45,
   "metadata": {},
   "outputs": [],
   "source": [
    "x1T = torch.einsum(\"ab,de->ea\", [t1,t2])"
   ]
  },
  {
   "cell_type": "code",
   "execution_count": 46,
   "metadata": {},
   "outputs": [
    {
     "data": {
      "text/plain": [
       "tensor([[ 6,  6],\n",
       "        [ 9,  9],\n",
       "        [12, 12]])"
      ]
     },
     "execution_count": 46,
     "metadata": {},
     "output_type": "execute_result"
    }
   ],
   "source": [
    "x1T"
   ]
  },
  {
   "cell_type": "code",
   "execution_count": 47,
   "metadata": {},
   "outputs": [],
   "source": [
    "diag = torch.einsum(\"ab,de->a\", [t1,t2])"
   ]
  },
  {
   "cell_type": "code",
   "execution_count": 48,
   "metadata": {},
   "outputs": [
    {
     "data": {
      "text/plain": [
       "tensor([27, 27])"
      ]
     },
     "execution_count": 48,
     "metadata": {},
     "output_type": "execute_result"
    }
   ],
   "source": [
    "diag"
   ]
  },
  {
   "cell_type": "code",
   "execution_count": 49,
   "metadata": {},
   "outputs": [],
   "source": [
    "diagT = torch.einsum(\"ab,de->e\", [t1,t2])"
   ]
  },
  {
   "cell_type": "code",
   "execution_count": 51,
   "metadata": {},
   "outputs": [
    {
     "data": {
      "text/plain": [
       "tensor([12, 18, 24])"
      ]
     },
     "execution_count": 51,
     "metadata": {},
     "output_type": "execute_result"
    }
   ],
   "source": [
    "diagT"
   ]
  },
  {
   "cell_type": "code",
   "execution_count": 54,
   "metadata": {},
   "outputs": [
    {
     "data": {
      "text/plain": [
       "torch.Size([3, 4, 5])"
      ]
     },
     "execution_count": 54,
     "metadata": {},
     "output_type": "execute_result"
    }
   ],
   "source": [
    "#can also just reshape\n",
    "o1 = torch.tensor(np.ones((5,4,3)))\n",
    "oT = torch.einsum(\"abc->cba\", [o1])\n",
    "oT.shape #5,4,3 --> 3,4,5"
   ]
  },
  {
   "cell_type": "code",
   "execution_count": 63,
   "metadata": {},
   "outputs": [
    {
     "data": {
      "text/plain": [
       "tensor([6, 6])"
      ]
     },
     "execution_count": 63,
     "metadata": {},
     "output_type": "execute_result"
    }
   ],
   "source": [
    "# row summation\n",
    "a1 = torch.tensor([[1,2,3],[1,2,3]]) #2x3\n",
    "row_sum = torch.einsum(\"ij->i\", [a1])\n",
    "row_sum"
   ]
  },
  {
   "cell_type": "code",
   "execution_count": 65,
   "metadata": {},
   "outputs": [
    {
     "data": {
      "text/plain": [
       "tensor([2, 4, 6])"
      ]
     },
     "execution_count": 65,
     "metadata": {},
     "output_type": "execute_result"
    }
   ],
   "source": [
    "# col summation\n",
    "a1 = torch.tensor([[1,2,3],[1,2,3]]) #2x3\n",
    "col_sum = torch.einsum(\"ij->j\", [a1])\n",
    "col_sum"
   ]
  },
  {
   "cell_type": "code",
   "execution_count": 66,
   "metadata": {},
   "outputs": [
    {
     "data": {
      "text/plain": [
       "tensor(12)"
      ]
     },
     "execution_count": 66,
     "metadata": {},
     "output_type": "execute_result"
    }
   ],
   "source": [
    "# full summation\n",
    "a1 = torch.tensor([[1,2,3],[1,2,3]]) #2x3\n",
    "a_sum = torch.einsum(\"ij->\", [a1])\n",
    "a_sum"
   ]
  },
  {
   "cell_type": "code",
   "execution_count": 80,
   "metadata": {},
   "outputs": [
    {
     "data": {
      "text/plain": [
       "tensor([[14],\n",
       "        [14]])"
      ]
     },
     "execution_count": 80,
     "metadata": {},
     "output_type": "execute_result"
    }
   ],
   "source": [
    "#matrix vector multiplication\n",
    "v1 = torch.tensor([[1,2,3]]) #1x3 vector\n",
    "m1 = torch.tensor([[1,2,3],[1,2,3]]) #2x3 matrix\n",
    "mv = torch.einsum(\"ij,kj->ik\", [m1, v1]) # 2x3,1x3 -> 2x1\n",
    "mv"
   ]
  },
  {
   "cell_type": "code",
   "execution_count": 81,
   "metadata": {},
   "outputs": [
    {
     "data": {
      "text/plain": [
       "tensor([[14, 14],\n",
       "        [14, 14]])"
      ]
     },
     "execution_count": 81,
     "metadata": {},
     "output_type": "execute_result"
    }
   ],
   "source": [
    "#matrix matrixT (self)\n",
    "m1 = torch.tensor([[1,2,3],[1,2,3]]) #2x3 matrix\n",
    "#note, einsum handles the transpose flip for us\n",
    "#we just set it in the inputs\n",
    "mm = torch.einsum(\"ij,kj->ik\", [m1, m1]) # 2x3,3x2 -> 2x2\n",
    "mm"
   ]
  },
  {
   "cell_type": "code",
   "execution_count": 82,
   "metadata": {},
   "outputs": [
    {
     "name": "stdout",
     "output_type": "stream",
     "text": [
      "tensor(14)\n"
     ]
    }
   ],
   "source": [
    "#dot product of first row\n",
    "m1 = torch.tensor([[1,2,3],[1,2,3]]) #2x3 matrix\n",
    "d1 = torch.einsum(\"i,i->\", [m1[0], m1[0]])\n",
    "print(d1)"
   ]
  },
  {
   "cell_type": "code",
   "execution_count": 83,
   "metadata": {},
   "outputs": [
    {
     "name": "stdout",
     "output_type": "stream",
     "text": [
      "tensor(28)\n"
     ]
    }
   ],
   "source": [
    "#dot product of a matrix\n",
    "m1 = torch.tensor([[1,2,3],[1,2,3]]) #2x3 matrix\n",
    "d2 = torch.einsum(\"ij,ij->\", [m1,m1])\n",
    "print(d2)"
   ]
  },
  {
   "cell_type": "code",
   "execution_count": 85,
   "metadata": {},
   "outputs": [
    {
     "name": "stdout",
     "output_type": "stream",
     "text": [
      "tensor([[1, 4, 9],\n",
      "        [1, 4, 9]])\n"
     ]
    }
   ],
   "source": [
    "#element wise product (haadamard product)\n",
    "m1 = torch.tensor([[1,2,3],[1,2,3]]) #2x3 matrix\n",
    "h1 = torch.einsum(\"ij,ij->ij\", m1,m1)\n",
    "print(h1)\n"
   ]
  },
  {
   "cell_type": "code",
   "execution_count": 88,
   "metadata": {},
   "outputs": [
    {
     "name": "stdout",
     "output_type": "stream",
     "text": [
      "tensor([[ 1,  2,  3,  4,  5],\n",
      "        [ 2,  4,  6,  8, 10],\n",
      "        [ 3,  6,  9, 12, 15]])\n"
     ]
    }
   ],
   "source": [
    "#outer product\n",
    "va = torch.tensor([1,2,3]) #3 element vector\n",
    "vb = torch.tensor([1,2,3,4,5]) #5 element vector\n",
    "mv = torch.einsum(\"i,j->ij\", va, vb) # 3,5 --> 3x5 outer product matrix\n",
    "print(mv)"
   ]
  },
  {
   "cell_type": "code",
   "execution_count": 91,
   "metadata": {},
   "outputs": [
    {
     "name": "stdout",
     "output_type": "stream",
     "text": [
      "torch.Size([3, 2, 3])\n"
     ]
    }
   ],
   "source": [
    "#batch matrix multiplication\n",
    "a = torch.rand((3,2,5))\n",
    "b = torch.rand((3,5,3))\n",
    "c = torch.einsum(\"ijk,ikl->ijl\", a,b)\n",
    "print(c.shape)"
   ]
  },
  {
   "cell_type": "code",
   "execution_count": 93,
   "metadata": {},
   "outputs": [
    {
     "name": "stdout",
     "output_type": "stream",
     "text": [
      "tensor([1, 1, 1])\n"
     ]
    }
   ],
   "source": [
    "#matrix diagonal\n",
    "x = torch.tensor([[1,0,0],[0,1,0],[0,0,1]])\n",
    "xdiag = torch.einsum(\"ii->i\",x)\n",
    "print(xdiag)"
   ]
  },
  {
   "cell_type": "code",
   "execution_count": 95,
   "metadata": {},
   "outputs": [
    {
     "name": "stdout",
     "output_type": "stream",
     "text": [
      "tensor(3)\n"
     ]
    }
   ],
   "source": [
    "#matrix trace\n",
    "x = torch.tensor([[1,0,0],[0,1,0],[0,0,1]])\n",
    "xtrace = torch.einsum(\"ii->\",x) #just sum all values\n",
    "print(xtrace)"
   ]
  },
  {
   "cell_type": "code",
   "execution_count": null,
   "metadata": {},
   "outputs": [],
   "source": []
  }
 ],
 "metadata": {
  "kernelspec": {
   "display_name": "Python 3",
   "language": "python",
   "name": "python3"
  },
  "language_info": {
   "codemirror_mode": {
    "name": "ipython",
    "version": 3
   },
   "file_extension": ".py",
   "mimetype": "text/x-python",
   "name": "python",
   "nbconvert_exporter": "python",
   "pygments_lexer": "ipython3",
   "version": "3.8.6"
  }
 },
 "nbformat": 4,
 "nbformat_minor": 4
}
