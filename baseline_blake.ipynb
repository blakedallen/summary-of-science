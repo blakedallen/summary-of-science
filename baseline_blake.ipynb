{
 "cells": [
  {
   "cell_type": "markdown",
   "metadata": {},
   "source": [
    "# Summary Of Science"
   ]
  },
  {
   "cell_type": "code",
   "execution_count": 1,
   "metadata": {},
   "outputs": [],
   "source": [
    "import requests\n",
    "import zipfile\n",
    "import requests\n",
    "import io\n",
    "import zipfile\n",
    "import pandas as pd\n",
    "import numpy as np\n",
    "import os\n",
    "import matplotlib.pyplot as plt\n",
    "import xml.etree.ElementTree as ET\n",
    "import seaborn as sns\n",
    "import matplotlib.pyplot as plt\n",
    "import html\n",
    "from collections import defaultdict, Counter\n",
    "import nltk\n",
    "import re\n",
    "from nltk.corpus import stopwords\n",
    "from nltk.tokenize import RegexpTokenizer\n",
    "from nltk import ngrams\n",
    "from rouge_score import rouge_scorer\n",
    "from transformers import PegasusForConditionalGeneration, PegasusTokenizer\n",
    "import torch\n",
    "\n",
    "\n",
    "stop_set = set(stopwords.words('english')) #create a set of english stopwords\n",
    "sns.set_style(\"dark\")\n",
    "plot_dims = (16, 16)\n"
   ]
  },
  {
   "cell_type": "code",
   "execution_count": 17,
   "metadata": {},
   "outputs": [],
   "source": [
    "!pip install transformers"
   ]
  },
  {
   "cell_type": "code",
   "execution_count": 16,
   "metadata": {},
   "outputs": [
    {
     "name": "stdout",
     "output_type": "stream",
     "text": [
      "Data has already been downloaded\n"
     ]
    }
   ],
   "source": [
    "#download data if we haven't already\n",
    "if not os.path.isdir(\"data/nlp_data\"): \n",
    "    url = \"https://cs.stanford.edu/~myasu/projects/scisumm_net/scisummnet_release1.1__20190413.zip\"\n",
    "    response = requests.get(url)\n",
    "    with zipfile.ZipFile(io.BytesIO(response.content)) as zipObj:\n",
    "       # Extract all the contents of zip file in different directory\n",
    "       zipObj.extractall(\"data/nlp_data\")\n",
    "       print(\"File is unzipped in nlp_data folder\") \n",
    "else:\n",
    "    print(\"Data has already been downloaded\")"
   ]
  },
  {
   "cell_type": "markdown",
   "metadata": {},
   "source": [
    "## EDA"
   ]
  },
  {
   "cell_type": "code",
   "execution_count": 3,
   "metadata": {},
   "outputs": [],
   "source": [
    "#get all raw text, break all papers into two parts -- Abstract and rest of document\n",
    "#first get all filepaths\n",
    "xmlfiles = []\n",
    "for subdir, dirs, files in os.walk(r'nlp_data'):\n",
    "    for filename in files:\n",
    "        filepath = subdir + os.sep + filename\n",
    "        if filepath.endswith(\".xml\"):\n",
    "            xmlfiles.append(filepath)"
   ]
  },
  {
   "cell_type": "code",
   "execution_count": 4,
   "metadata": {},
   "outputs": [
    {
     "data": {
      "text/html": [
       "<div>\n",
       "<style scoped>\n",
       "    .dataframe tbody tr th:only-of-type {\n",
       "        vertical-align: middle;\n",
       "    }\n",
       "\n",
       "    .dataframe tbody tr th {\n",
       "        vertical-align: top;\n",
       "    }\n",
       "\n",
       "    .dataframe thead th {\n",
       "        text-align: right;\n",
       "    }\n",
       "</style>\n",
       "<table border=\"1\" class=\"dataframe\">\n",
       "  <thead>\n",
       "    <tr style=\"text-align: right;\">\n",
       "      <th></th>\n",
       "      <th>abstract</th>\n",
       "      <th>body</th>\n",
       "      <th>filepath</th>\n",
       "    </tr>\n",
       "  </thead>\n",
       "  <tbody>\n",
       "    <tr>\n",
       "      <th>0</th>\n",
       "      <td>We present a method for extracting parts of ob...</td>\n",
       "      <td>We present a method of extracting parts of obj...</td>\n",
       "      <td>nlp_data/scisummnet_release1.1__20190413/top10...</td>\n",
       "    </tr>\n",
       "    <tr>\n",
       "      <th>1</th>\n",
       "      <td>We describe a series of five statistical model...</td>\n",
       "      <td>We describe a series of five statistical model...</td>\n",
       "      <td>nlp_data/scisummnet_release1.1__20190413/top10...</td>\n",
       "    </tr>\n",
       "    <tr>\n",
       "      <th>2</th>\n",
       "      <td>Previous work has shown that Chinese word segm...</td>\n",
       "      <td>Word segmentation is considered an important f...</td>\n",
       "      <td>nlp_data/scisummnet_release1.1__20190413/top10...</td>\n",
       "    </tr>\n",
       "    <tr>\n",
       "      <th>3</th>\n",
       "      <td>We examine the viability of building large pol...</td>\n",
       "      <td>Polarity lexicons are large lists of phrases t...</td>\n",
       "      <td>nlp_data/scisummnet_release1.1__20190413/top10...</td>\n",
       "    </tr>\n",
       "    <tr>\n",
       "      <th>4</th>\n",
       "      <td>Extracting semantic relationships between enti...</td>\n",
       "      <td>Extraction of semantic relationships between e...</td>\n",
       "      <td>nlp_data/scisummnet_release1.1__20190413/top10...</td>\n",
       "    </tr>\n",
       "    <tr>\n",
       "      <th>...</th>\n",
       "      <td>...</td>\n",
       "      <td>...</td>\n",
       "      <td>...</td>\n",
       "    </tr>\n",
       "    <tr>\n",
       "      <th>1004</th>\n",
       "      <td>In statistical machine translation, correspond...</td>\n",
       "      <td>In statistical machine translation, correspond...</td>\n",
       "      <td>nlp_data/scisummnet_release1.1__20190413/top10...</td>\n",
       "    </tr>\n",
       "    <tr>\n",
       "      <th>1005</th>\n",
       "      <td>We have developed a new program called alignin...</td>\n",
       "      <td>Aligning parallel texts has recently received ...</td>\n",
       "      <td>nlp_data/scisummnet_release1.1__20190413/top10...</td>\n",
       "    </tr>\n",
       "    <tr>\n",
       "      <th>1006</th>\n",
       "      <td>We present an approach to pronoun resolution b...</td>\n",
       "      <td>Pronoun resolution is a difficult but vital pa...</td>\n",
       "      <td>nlp_data/scisummnet_release1.1__20190413/top10...</td>\n",
       "    </tr>\n",
       "    <tr>\n",
       "      <th>1007</th>\n",
       "      <td>We use logical inference techniques for recogn...</td>\n",
       "      <td>Recognising textual entailment (RTE) is the ta...</td>\n",
       "      <td>nlp_data/scisummnet_release1.1__20190413/top10...</td>\n",
       "    </tr>\n",
       "    <tr>\n",
       "      <th>1008</th>\n",
       "      <td>This paper deals with two important ambiguitie...</td>\n",
       "      <td>The problem with successful resolution of ambi...</td>\n",
       "      <td>nlp_data/scisummnet_release1.1__20190413/top10...</td>\n",
       "    </tr>\n",
       "  </tbody>\n",
       "</table>\n",
       "<p>1009 rows × 3 columns</p>\n",
       "</div>"
      ],
      "text/plain": [
       "                                               abstract  \\\n",
       "0     We present a method for extracting parts of ob...   \n",
       "1     We describe a series of five statistical model...   \n",
       "2     Previous work has shown that Chinese word segm...   \n",
       "3     We examine the viability of building large pol...   \n",
       "4     Extracting semantic relationships between enti...   \n",
       "...                                                 ...   \n",
       "1004  In statistical machine translation, correspond...   \n",
       "1005  We have developed a new program called alignin...   \n",
       "1006  We present an approach to pronoun resolution b...   \n",
       "1007  We use logical inference techniques for recogn...   \n",
       "1008  This paper deals with two important ambiguitie...   \n",
       "\n",
       "                                                   body  \\\n",
       "0     We present a method of extracting parts of obj...   \n",
       "1     We describe a series of five statistical model...   \n",
       "2     Word segmentation is considered an important f...   \n",
       "3     Polarity lexicons are large lists of phrases t...   \n",
       "4     Extraction of semantic relationships between e...   \n",
       "...                                                 ...   \n",
       "1004  In statistical machine translation, correspond...   \n",
       "1005  Aligning parallel texts has recently received ...   \n",
       "1006  Pronoun resolution is a difficult but vital pa...   \n",
       "1007  Recognising textual entailment (RTE) is the ta...   \n",
       "1008  The problem with successful resolution of ambi...   \n",
       "\n",
       "                                               filepath  \n",
       "0     nlp_data/scisummnet_release1.1__20190413/top10...  \n",
       "1     nlp_data/scisummnet_release1.1__20190413/top10...  \n",
       "2     nlp_data/scisummnet_release1.1__20190413/top10...  \n",
       "3     nlp_data/scisummnet_release1.1__20190413/top10...  \n",
       "4     nlp_data/scisummnet_release1.1__20190413/top10...  \n",
       "...                                                 ...  \n",
       "1004  nlp_data/scisummnet_release1.1__20190413/top10...  \n",
       "1005  nlp_data/scisummnet_release1.1__20190413/top10...  \n",
       "1006  nlp_data/scisummnet_release1.1__20190413/top10...  \n",
       "1007  nlp_data/scisummnet_release1.1__20190413/top10...  \n",
       "1008  nlp_data/scisummnet_release1.1__20190413/top10...  \n",
       "\n",
       "[1009 rows x 3 columns]"
      ]
     },
     "execution_count": 4,
     "metadata": {},
     "output_type": "execute_result"
    }
   ],
   "source": [
    "#next parse all XML documents\n",
    "\n",
    "def parse_xml_abstract(fp):\n",
    "    \"\"\" parse an XML journal article into an abstract and the rest of the text\n",
    "    \"\"\"\n",
    "    try:\n",
    "        tree = ET.parse(fp)\n",
    "    except Exception as e:\n",
    "        return \"\",\"\",str(e)\n",
    "    root = tree.getroot()\n",
    "    \n",
    "    ab = []\n",
    "    bod = []\n",
    "    \n",
    "    for child in root:\n",
    "        if child.tag == \"ABSTRACT\":\n",
    "            for block in child:\n",
    "                ab.append(block.text)\n",
    "        else:\n",
    "            for block in child:\n",
    "                bod.append(block.text)\n",
    "                \n",
    "    #convert from list --> string\n",
    "    abstract = \"\\n\".join(ab)\n",
    "    body = \"\\n\".join(bod)\n",
    "    \n",
    "    #decode html entities\n",
    "    abstract = html.unescape(abstract)\n",
    "    body = html.unescape(body)\n",
    "    \n",
    "    return abstract,body,\"\"\n",
    "\n",
    "raw_cols = []\n",
    "for fp in xmlfiles:\n",
    "    ab,bod,err = parse_xml_abstract(fp)\n",
    "    if err:\n",
    "        #print(fp, err)\n",
    "        continue\n",
    "    raw_cols.append([ab,bod,fp])\n",
    "\n",
    "df = pd.DataFrame(raw_cols, columns=[\"abstract\", \"body\", \"filepath\"])\n",
    "df"
   ]
  },
  {
   "cell_type": "code",
   "execution_count": 5,
   "metadata": {},
   "outputs": [
    {
     "data": {
      "image/png": "[encoded data removed]",
      "text/plain": [
       "<Figure size 1152x1152 with 1 Axes>"
      ]
     },
     "metadata": {},
     "output_type": "display_data"
    },
    {
     "name": "stdout",
     "output_type": "stream",
     "text": [
      "Average Abstract Length: 1084\n",
      "Average Body Length: 26168\n"
     ]
    }
   ],
   "source": [
    "#find mean of abstracts body\n",
    "#find total lengths\n",
    "\n",
    "length_data = {\n",
    "    \"abstract\":[],\n",
    "    \"body\":[],\n",
    "}\n",
    "\n",
    "abstract_corpus = []\n",
    "body_corpus = []\n",
    "\n",
    "for index, row in df.iterrows():\n",
    "    length_data[\"abstract\"].append(len(row[\"abstract\"]))\n",
    "    length_data[\"body\"].append(len(row[\"body\"]))\n",
    "    abstract_corpus.append(row[\"abstract\"].lower())\n",
    "    body_corpus.append(row[\"body\"].lower())\n",
    "\n",
    "ld = pd.DataFrame(length_data)\n",
    "fig, ax = plt.subplots(figsize=plot_dims)\n",
    "\n",
    "sns.boxplot(x=\"variable\", y=\"value\", data=pd.melt(ld))\n",
    "plt.show()\n",
    "\n",
    "def Average(lst): \n",
    "    return round(sum(lst) / len(lst)) \n",
    "\n",
    "print(\"Average Abstract Length: {}\".format(Average(length_data[\"abstract\"])))\n",
    "print(\"Average Body Length: {}\".format(Average(length_data[\"body\"])))\n"
   ]
  },
  {
   "cell_type": "code",
   "execution_count": 6,
   "metadata": {},
   "outputs": [
    {
     "data": {
      "text/html": [
       "<div>\n",
       "<style scoped>\n",
       "    .dataframe tbody tr th:only-of-type {\n",
       "        vertical-align: middle;\n",
       "    }\n",
       "\n",
       "    .dataframe tbody tr th {\n",
       "        vertical-align: top;\n",
       "    }\n",
       "\n",
       "    .dataframe thead th {\n",
       "        text-align: right;\n",
       "    }\n",
       "</style>\n",
       "<table border=\"1\" class=\"dataframe\">\n",
       "  <thead>\n",
       "    <tr style=\"text-align: right;\">\n",
       "      <th></th>\n",
       "      <th>abstract</th>\n",
       "    </tr>\n",
       "  </thead>\n",
       "  <tbody>\n",
       "    <tr>\n",
       "      <th>count</th>\n",
       "      <td>1009.000000</td>\n",
       "    </tr>\n",
       "    <tr>\n",
       "      <th>mean</th>\n",
       "      <td>1083.992071</td>\n",
       "    </tr>\n",
       "    <tr>\n",
       "      <th>std</th>\n",
       "      <td>2691.084790</td>\n",
       "    </tr>\n",
       "    <tr>\n",
       "      <th>min</th>\n",
       "      <td>0.000000</td>\n",
       "    </tr>\n",
       "    <tr>\n",
       "      <th>50%</th>\n",
       "      <td>653.000000</td>\n",
       "    </tr>\n",
       "    <tr>\n",
       "      <th>95%</th>\n",
       "      <td>1862.400000</td>\n",
       "    </tr>\n",
       "    <tr>\n",
       "      <th>max</th>\n",
       "      <td>38470.000000</td>\n",
       "    </tr>\n",
       "  </tbody>\n",
       "</table>\n",
       "</div>"
      ],
      "text/plain": [
       "           abstract\n",
       "count   1009.000000\n",
       "mean    1083.992071\n",
       "std     2691.084790\n",
       "min        0.000000\n",
       "50%      653.000000\n",
       "95%     1862.400000\n",
       "max    38470.000000"
      ]
     },
     "execution_count": 6,
     "metadata": {},
     "output_type": "execute_result"
    },
    {
     "data": {
      "image/png": "[encoded data removed]",
      "text/plain": [
       "<Figure size 1152x1152 with 1 Axes>"
      ]
     },
     "metadata": {},
     "output_type": "display_data"
    }
   ],
   "source": [
    "fig, ax = plt.subplots(figsize=plot_dims)\n",
    "df['abstract'].str.len().hist()\n",
    "abs_lengths = pd.DataFrame(df[\"abstract\"].str.len())\n",
    "abs_lengths.describe(percentiles=[0.95])\n"
   ]
  },
  {
   "cell_type": "code",
   "execution_count": 7,
   "metadata": {},
   "outputs": [
    {
     "data": {
      "text/html": [
       "<div>\n",
       "<style scoped>\n",
       "    .dataframe tbody tr th:only-of-type {\n",
       "        vertical-align: middle;\n",
       "    }\n",
       "\n",
       "    .dataframe tbody tr th {\n",
       "        vertical-align: top;\n",
       "    }\n",
       "\n",
       "    .dataframe thead th {\n",
       "        text-align: right;\n",
       "    }\n",
       "</style>\n",
       "<table border=\"1\" class=\"dataframe\">\n",
       "  <thead>\n",
       "    <tr style=\"text-align: right;\">\n",
       "      <th></th>\n",
       "      <th>body</th>\n",
       "    </tr>\n",
       "  </thead>\n",
       "  <tbody>\n",
       "    <tr>\n",
       "      <th>count</th>\n",
       "      <td>1009.000000</td>\n",
       "    </tr>\n",
       "    <tr>\n",
       "      <th>mean</th>\n",
       "      <td>26168.062438</td>\n",
       "    </tr>\n",
       "    <tr>\n",
       "      <th>std</th>\n",
       "      <td>17781.772611</td>\n",
       "    </tr>\n",
       "    <tr>\n",
       "      <th>min</th>\n",
       "      <td>0.000000</td>\n",
       "    </tr>\n",
       "    <tr>\n",
       "      <th>50%</th>\n",
       "      <td>23958.000000</td>\n",
       "    </tr>\n",
       "    <tr>\n",
       "      <th>95%</th>\n",
       "      <td>63127.800000</td>\n",
       "    </tr>\n",
       "    <tr>\n",
       "      <th>max</th>\n",
       "      <td>146332.000000</td>\n",
       "    </tr>\n",
       "  </tbody>\n",
       "</table>\n",
       "</div>"
      ],
      "text/plain": [
       "                body\n",
       "count    1009.000000\n",
       "mean    26168.062438\n",
       "std     17781.772611\n",
       "min         0.000000\n",
       "50%     23958.000000\n",
       "95%     63127.800000\n",
       "max    146332.000000"
      ]
     },
     "execution_count": 7,
     "metadata": {},
     "output_type": "execute_result"
    },
    {
     "data": {
      "image/png": "[encoded data removed]",
      "text/plain": [
       "<Figure size 1152x1152 with 1 Axes>"
      ]
     },
     "metadata": {},
     "output_type": "display_data"
    }
   ],
   "source": [
    "fig, ax = plt.subplots(figsize=plot_dims)\n",
    "df['body'].str.len().hist()\n",
    "body_lengths = pd.DataFrame(df[\"body\"].str.len())\n",
    "body_lengths.describe(percentiles=[0.95])\n"
   ]
  },
  {
   "cell_type": "code",
   "execution_count": 8,
   "metadata": {},
   "outputs": [
    {
     "data": {
      "text/plain": [
       "<AxesSubplot:>"
      ]
     },
     "execution_count": 8,
     "metadata": {},
     "output_type": "execute_result"
    },
    {
     "data": {
      "image/png": "[encoded data removed]",
      "text/plain": [
       "<Figure size 1152x1152 with 1 Axes>"
      ]
     },
     "metadata": {},
     "output_type": "display_data"
    }
   ],
   "source": [
    "#find most common words in abstracts\n",
    "abstract_words = re.findall(r\"[\\w']+\", \"\\n\".join(abstract_corpus))\n",
    "counter = Counter(abstract_words)\n",
    "most = counter.most_common()\n",
    "x, y = [], []\n",
    "for word,count in most[:50]:\n",
    "    if (word not in stop_set):\n",
    "        x.append(word)\n",
    "        y.append(count)\n",
    "fig, ax = plt.subplots(figsize=plot_dims)\n",
    "sns.barplot(x=y,y=x)"
   ]
  },
  {
   "cell_type": "markdown",
   "metadata": {},
   "source": [
    "## Baseline model\n",
    "\n",
    "Using ROUGE-N we can count our generated summaries to our manual summaries by measuring the amount of N-Gram overlap in both pieces of text. [1]\n"
   ]
  },
  {
   "cell_type": "code",
   "execution_count": 9,
   "metadata": {},
   "outputs": [
    {
     "name": "stdout",
     "output_type": "stream",
     "text": [
      "Expected: 0.75, Got: 1.0, Pred: This is also test Summary: This is a test\n",
      "Expected: 0.3333, Got: 0.5, Pred: This is also test Summary: This is a test\n"
     ]
    }
   ],
   "source": [
    "#this was just an exercise to learn about how to implement a rouge-N system\n",
    "# Rouge-N a scoring metric of similarity between sequences\n",
    "#tokenize based on word boundaries, exclude punctuation\n",
    "rouge_tokenizer = RegexpTokenizer('[a-zA-Z]\\w+')\n",
    "\n",
    "def rouge_n(pred_summary, summary, n=1):\n",
    "    \"\"\" Given two sequences of text find the sum of n-gram co-occurence\n",
    "        over the total possible n-gram co-occurences. \n",
    "        \n",
    "        pred_summary: predicted summary, raw text (string)\n",
    "        summary: reference summary, raw text (string)\n",
    "    \"\"\"\n",
    "    \n",
    "    ngram_summary = ngrams(rouge_tokenizer.tokenize(summary.lower()),n) #manual summary, ground truth\n",
    "    ngram_pred = ngrams(rouge_tokenizer.tokenize(pred_summary.lower()),n) #generated summary\n",
    "    \n",
    "    cnt_summary = Counter()\n",
    "    len_ngram_summary = 0\n",
    "    for gram in ngram_summary:\n",
    "        cnt_summary[gram] += 1\n",
    "        len_ngram_summary += 1\n",
    "    \n",
    "    cnt_pred = Counter()\n",
    "    for gram in ngram_pred:\n",
    "        cnt_pred[gram] += 1\n",
    "    \n",
    "    #find sum of maximum co-occurence of ngrams over total possible n-grams\n",
    "    #essentially measuring total similarity of these two pieces of text\n",
    "    co_occurences = 0\n",
    "    possible_occurences = len_ngram_summary\n",
    "    for gram in cnt_pred:\n",
    "        if gram in cnt_summary:\n",
    "            #get max occurences\n",
    "            if cnt_pred[gram] > cnt_summary[gram]:\n",
    "                co_occurences += cnt_summary[gram]\n",
    "            else:\n",
    "                co_occurences += cnt_pred[gram]\n",
    "    \n",
    "    return co_occurences / possible_occurences\n",
    "\n",
    "    \n",
    "def test_rouge_n():\n",
    "    tests = [\n",
    "        {\n",
    "            \"pred\":\"This is a test\",\n",
    "            \"summary\":\"This is a test\",\n",
    "            \"ngram\":1,\n",
    "            \"expected\":1.0,\n",
    "        },\n",
    "        {\n",
    "            \"pred\":\"This is also test\",\n",
    "            \"summary\":\"This is a test\",\n",
    "            \"ngram\":1,\n",
    "            \"expected\":0.75,\n",
    "        },\n",
    "        {\n",
    "            \"pred\":\"This is a test\",\n",
    "            \"summary\":\"This is a test\",\n",
    "            \"ngram\":2,\n",
    "            \"expected\":1.0,\n",
    "        },\n",
    "        {\n",
    "            \"pred\":\"This is also test\",\n",
    "            \"summary\":\"This is a test\",\n",
    "            \"ngram\":2,\n",
    "            \"expected\":0.3333,\n",
    "        },   \n",
    "    ]\n",
    "    for t in tests:\n",
    "        score = rouge_n(t[\"pred\"], t[\"summary\"], n=t[\"ngram\"])\n",
    "        if score != t[\"expected\"]:\n",
    "            print(\"Expected: {}, Got: {}, Pred: {} Summary: {}\".format(\n",
    "                t[\"expected\"], \n",
    "                score, \n",
    "                t[\"pred\"],\n",
    "                t[\"summary\"],\n",
    "            ))\n",
    "\n",
    "\n",
    "test_rouge_n()\n"
   ]
  },
  {
   "cell_type": "code",
   "execution_count": 15,
   "metadata": {},
   "outputs": [
    {
     "name": "stdout",
     "output_type": "stream",
     "text": [
      "rouge1 : 0.75\n",
      "rouge2 : 0.2857142857142857\n",
      "rougeL : 0.625\n",
      "rougeLsum : 0.625\n"
     ]
    }
   ],
   "source": [
    "\n",
    "scorer = rouge_scorer.RougeScorer(['rouge1','rouge2', 'rougeL','rougeLsum'], use_stemmer=True)\n",
    "scores = scorer.score('The quick brown fox jumps over the lazy dog',\n",
    "                      'The quick brown dog jumps on the log.')\n",
    "for k in scores:\n",
    "    score = scores[k]\n",
    "    print(\"{} : {}\".format(k,score[0]))"
   ]
  },
  {
   "cell_type": "code",
   "execution_count": 12,
   "metadata": {},
   "outputs": [],
   "source": [
    "#baseline using pegasus\n",
    "src_text = [\n",
    "    \"\"\" PG&E stated it scheduled the blackouts in response to forecasts for high winds amid dry conditions. The aim is to reduce the risk of wildfires. Nearly 800 thousand customers were scheduled to be affected by the shutoffs which were expected to last through at least midday tomorrow.\"\"\"\n",
    "]\n",
    "\n",
    "model_name = 'google/pegasus-xsum'\n",
    "torch_device = 'cuda' if torch.cuda.is_available() else 'cpu'\n",
    "tokenizer = PegasusTokenizer.from_pretrained(model_name)\n",
    "assert tokenizer != None\n",
    "\n",
    "model = PegasusForConditionalGeneration.from_pretrained(model_name).to(torch_device)\n",
    "batch = tokenizer.prepare_seq2seq_batch(src_text, truncation=True, padding='longest', return_tensors=\"pt\").to(torch_device)\n",
    "translated = model.generate(**batch)\n",
    "tgt_text = tokenizer.batch_decode(translated, skip_special_tokens=True)\n",
    "assert tgt_text[0] == \"California's largest electricity provider has turned off power to hundreds of thousands of customers.\""
   ]
  },
  {
   "cell_type": "code",
   "execution_count": 13,
   "metadata": {},
   "outputs": [
    {
     "data": {
      "text/plain": [
       "PreTrainedTokenizer(name_or_path='google/pegasus-xsum', vocab_size=96103, model_max_len=512, is_fast=False, padding_side='right', special_tokens={'eos_token': '</s>', 'unk_token': '<unk>', 'pad_token': '<pad>', 'mask_token': '<mask_2>', 'additional_special_tokens': ['<mask_1>', '<unk_2>', '<unk_3>', '<unk_4>', '<unk_5>', '<unk_6>', '<unk_7>', '<unk_8>', '<unk_9>', '<unk_10>', '<unk_11>', '<unk_12>', '<unk_13>', '<unk_14>', '<unk_15>', '<unk_16>', '<unk_17>', '<unk_18>', '<unk_19>', '<unk_20>', '<unk_21>', '<unk_22>', '<unk_23>', '<unk_24>', '<unk_25>', '<unk_26>', '<unk_27>', '<unk_28>', '<unk_29>', '<unk_30>', '<unk_31>', '<unk_32>', '<unk_33>', '<unk_34>', '<unk_35>', '<unk_36>', '<unk_37>', '<unk_38>', '<unk_39>', '<unk_40>', '<unk_41>', '<unk_42>', '<unk_43>', '<unk_44>', '<unk_45>', '<unk_46>', '<unk_47>', '<unk_48>', '<unk_49>', '<unk_50>', '<unk_51>', '<unk_52>', '<unk_53>', '<unk_54>', '<unk_55>', '<unk_56>', '<unk_57>', '<unk_58>', '<unk_59>', '<unk_60>', '<unk_61>', '<unk_62>', '<unk_63>', '<unk_64>', '<unk_65>', '<unk_66>', '<unk_67>', '<unk_68>', '<unk_69>', '<unk_70>', '<unk_71>', '<unk_72>', '<unk_73>', '<unk_74>', '<unk_75>', '<unk_76>', '<unk_77>', '<unk_78>', '<unk_79>', '<unk_80>', '<unk_81>', '<unk_82>', '<unk_83>', '<unk_84>', '<unk_85>', '<unk_86>', '<unk_87>', '<unk_88>', '<unk_89>', '<unk_90>', '<unk_91>', '<unk_92>', '<unk_93>', '<unk_94>', '<unk_95>', '<unk_96>', '<unk_97>', '<unk_98>', '<unk_99>', '<unk_100>', '<unk_101>', '<unk_102>']})"
      ]
     },
     "execution_count": 13,
     "metadata": {},
     "output_type": "execute_result"
    }
   ],
   "source": []
  },
  {
   "cell_type": "code",
   "execution_count": 14,
   "metadata": {},
   "outputs": [
    {
     "data": {
      "application/vnd.jupyter.widget-view+json": {
       "model_id": "38e74ff3f3544996a547b24b8e4bb2ef",
       "version_major": 2,
       "version_minor": 0
      },
      "text/plain": [
       "HBox(children=(HTML(value='Downloading'), FloatProgress(value=0.0, max=2279695208.0), HTML(value='')))"
      ]
     },
     "metadata": {},
     "output_type": "display_data"
    },
    {
     "name": "stdout",
     "output_type": "stream",
     "text": [
      "\n"
     ]
    },
    {
     "name": "stderr",
     "output_type": "stream",
     "text": [
      "All model checkpoint layers were used when initializing TFPegasusForConditionalGeneration.\n",
      "\n",
      "All the layers of TFPegasusForConditionalGeneration were initialized from the model checkpoint at google/pegasus-xsum.\n",
      "If your task is similar to the task the model of the checkpoint was trained on, you can already use TFPegasusForConditionalGeneration for predictions without further training.\n",
      "Truncation was not explicitly activated but `max_length` is provided a specific value, please use `truncation=True` to explicitly truncate examples to max length. Defaulting to 'longest_first' truncation strategy. If you encode pairs of sequences (GLUE-style) with the tokenizer you can select this strategy more precisely by providing a specific strategy to `truncation`.\n"
     ]
    },
    {
     "name": "stdout",
     "output_type": "stream",
     "text": [
      "[\"California's largest utility has cut power to hundreds of thousands of customers in an effort to reduce the risk of wildfires.\"]\n"
     ]
    }
   ],
   "source": [
    "from transformers import PegasusTokenizer, TFPegasusForConditionalGeneration\n",
    "\n",
    "model = TFPegasusForConditionalGeneration.from_pretrained('google/pegasus-xsum')\n",
    "tokenizer = PegasusTokenizer.from_pretrained('google/pegasus-xsum')\n",
    "\n",
    "ARTICLE_TO_SUMMARIZE = (\n",
    "\"PG&E stated it scheduled the blackouts in response to forecasts for high winds \"\n",
    "\"amid dry conditions. The aim is to reduce the risk of wildfires. Nearly 800 thousand customers were \"\n",
    "\"scheduled to be affected by the shutoffs which were expected to last through at least midday tomorrow.\"\n",
    ")\n",
    "inputs = tokenizer([ARTICLE_TO_SUMMARIZE], max_length=1024, return_tensors='tf')\n",
    "\n",
    "# Generate Summary\n",
    "summary_ids = model.generate(inputs['input_ids'])\n",
    "print([tokenizer.decode(g, skip_special_tokens=True, clean_up_tokenization_spaces=False) for g in summary_ids])"
   ]
  },
  {
   "cell_type": "markdown",
   "metadata": {},
   "source": [
    "## References\n",
    "\n",
    "[1] Lin, C. (2004). ROUGE: A Package for Automatic Evaluation of Summaries. ACL 2004."
   ]
  },
  {
   "cell_type": "code",
   "execution_count": null,
   "metadata": {},
   "outputs": [],
   "source": []
  }
 ],
 "metadata": {
  "kernelspec": {
   "display_name": "Python 3",
   "language": "python",
   "name": "python3"
  },
  "language_info": {
   "codemirror_mode": {
    "name": "ipython",
    "version": 3
   },
   "file_extension": ".py",
   "mimetype": "text/x-python",
   "name": "python",
   "nbconvert_exporter": "python",
   "pygments_lexer": "ipython3",
   "version": "3.8.6"
  }
 },
 "nbformat": 4,
 "nbformat_minor": 4
}
