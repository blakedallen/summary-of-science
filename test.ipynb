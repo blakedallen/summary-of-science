{
 "cells": [
  {
   "cell_type": "code",
   "execution_count": 9,
   "id": "random-segment",
   "metadata": {},
   "outputs": [],
   "source": [
    "import os\n",
    "import json\n",
    "import torch\n",
    "import torch.nn as nn\n",
    "import torch.nn.functional as F\n",
    "import re\n",
    "import random\n",
    "\n",
    "import pandas as pd\n",
    "from transformers import PegasusForConditionalGeneration, PegasusTokenizer, PegasusConfig\n",
    "import matplotlib.pyplot as plt\n",
    "from rouge_score import rouge_scorer\n"
   ]
  },
  {
   "cell_type": "code",
   "execution_count": 10,
   "id": "worst-board",
   "metadata": {},
   "outputs": [],
   "source": [
    "#globals\n",
    "MAX_LENGTH = 1024\n",
    "device = torch.device(\"cuda\" if torch.cuda.is_available() else \"cpu\")\n"
   ]
  },
  {
   "cell_type": "code",
   "execution_count": null,
   "id": "excessive-pride",
   "metadata": {},
   "outputs": [],
   "source": []
  },
  {
   "cell_type": "code",
   "execution_count": null,
   "id": "endangered-athens",
   "metadata": {},
   "outputs": [],
   "source": [
    "#dataset and tokenizer building\n",
    "#load our 10k data into a dataframe\n",
    "limit = 10000\n",
    "papers = []\n",
    "for root, dirs, files in os.walk(\"./data/mini_10k\"):\n",
    "    for f in files:\n",
    "        fn = root+\"/\"+f\n",
    "        with open(fn) as jsonfile:\n",
    "            d = json.load(jsonfile)\n",
    "        papers.append(d)\n",
    "        \n",
    "        if len(papers) >= limit:\n",
    "            break\n",
    "    if len(papers) >= limit:\n",
    "        break\n",
    "df = pd.DataFrame(papers)"
   ]
  },
  {
   "cell_type": "code",
   "execution_count": 12,
   "id": "normal-savings",
   "metadata": {},
   "outputs": [],
   "source": [
    "#load our rouge scorer\n",
    "scorer = rouge_scorer.RougeScorer(['rouge1', 'rouge2'], use_stemmer=True)\n",
    "#load our pretrained model and tokenizer\n",
    "model_name = 'google/pegasus-large'\n",
    "tokenizer = PegasusTokenizer.from_pretrained(model_name)\n",
    "config = PegasusConfig.from_pretrained(model_name, output_hidden_states=True, output_attentions=True)  \n",
    "pt_model = PegasusForConditionalGeneration.from_pretrained(model_name, config=config).to(device)"
   ]
  },
  {
   "cell_type": "code",
   "execution_count": 13,
   "id": "collect-failure",
   "metadata": {},
   "outputs": [
    {
     "name": "stdout",
     "output_type": "stream",
     "text": [
      "dict_keys(['input_ids', 'attention_mask'])\n"
     ]
    }
   ],
   "source": [
    "batch = tokenizer(df.fulltext[3], truncation=True, padding='longest', return_tensors=\"pt\").to(device)\n",
    "print(batch.keys())"
   ]
  },
  {
   "cell_type": "code",
   "execution_count": 14,
   "id": "express-millennium",
   "metadata": {},
   "outputs": [],
   "source": [
    "transformer_model = nn.Transformer(\n",
    "    d_model=1024, \n",
    "    nhead=16, \n",
    "    num_encoder_layers=12).to(device)"
   ]
  },
  {
   "cell_type": "code",
   "execution_count": 17,
   "id": "committed-turning",
   "metadata": {},
   "outputs": [],
   "source": [
    "#print(transformer_model.d_model)\n",
    "#src = torch.rand((1, 1, 1024))\n",
    "#tgt = torch.rand((1, 1, 1024))"
   ]
  },
  {
   "cell_type": "code",
   "execution_count": 18,
   "id": "worth-external",
   "metadata": {},
   "outputs": [],
   "source": [
    "#out = transformer_model(src, tgt)"
   ]
  },
  {
   "cell_type": "code",
   "execution_count": 22,
   "id": "recorded-thickness",
   "metadata": {},
   "outputs": [],
   "source": [
    "#out.shape"
   ]
  },
  {
   "cell_type": "code",
   "execution_count": 23,
   "id": "suburban-dryer",
   "metadata": {},
   "outputs": [
    {
     "data": {
      "text/plain": [
       "0"
      ]
     },
     "execution_count": 23,
     "metadata": {},
     "output_type": "execute_result"
    }
   ],
   "source": [
    "tokenizer.pad_token_id"
   ]
  },
  {
   "cell_type": "code",
   "execution_count": 39,
   "id": "still-laugh",
   "metadata": {},
   "outputs": [
    {
     "name": "stdout",
     "output_type": "stream",
     "text": [
      "tensor([[[ 0.0067,  0.0367, -0.0265,  ...,  0.0080,  0.0292, -0.0032],\n",
      "         [-0.0040, -0.0264, -0.0082,  ..., -0.0322,  0.0053,  0.0272],\n",
      "         [-0.0476,  0.0469, -0.0177,  ..., -0.0730, -0.0207,  0.0138],\n",
      "         ...,\n",
      "         [-0.0074, -0.0099,  0.0160,  ..., -0.0170, -0.0166, -0.0097],\n",
      "         [ 0.0059,  0.0040,  0.0291,  ...,  0.0454, -0.0484,  0.0453],\n",
      "         [-0.0625, -0.0483, -0.0239,  ...,  0.0042,  0.0411,  0.0085]]],\n",
      "       device='cuda:0', grad_fn=<EmbeddingBackward>)\n",
      "tensor([[[nan, nan, nan,  ..., nan, nan, nan],\n",
      "         [nan, nan, nan,  ..., nan, nan, nan],\n",
      "         [nan, nan, nan,  ..., nan, nan, nan],\n",
      "         ...,\n",
      "         [nan, nan, nan,  ..., nan, nan, nan],\n",
      "         [nan, nan, nan,  ..., nan, nan, nan],\n",
      "         [nan, nan, nan,  ..., nan, nan, nan]]], device='cuda:0',\n",
      "       grad_fn=<NativeLayerNormBackward>)\n",
      "0 nan\n"
     ]
    }
   ],
   "source": [
    "#loss_fn = nn.CrossEntropyLoss()\n",
    "loss_fn = torch.nn.MSELoss()\n",
    "\n",
    "lr = 5.0 # learning rate\n",
    "optimizer = torch.optim.SGD(transformer_model.parameters(), lr=lr)\n",
    "scheduler = torch.optim.lr_scheduler.StepLR(optimizer, 1.0, gamma=0.95)\n",
    "ntokens = tokenizer.vocab_size\n",
    "\n",
    "embedding = nn.Embedding(tokenizer.vocab_size, 1024, max_norm=True).to(device)\n",
    "sm = nn.Softmax(dim=1).to(device)\n",
    "\n",
    "for i in range(len(papers)):\n",
    "    \n",
    "    batch = tokenizer(df.fulltext[i], truncation=True, padding='longest', return_tensors=\"pt\").to(device)\n",
    "    #out = pt_model.generate(return_dict_in_generate=True, **batch)\n",
    "    \n",
    "    #random padding\n",
    "    src = batch[\"input_ids\"]\n",
    "    tgt = batch[\"input_ids\"]\n",
    "    \n",
    "    for i,x in enumerate(src):\n",
    "        flip = random.random()\n",
    "        if flip > 0.9:\n",
    "            src[i] = tokenizer.pad_token_id\n",
    "    src = embedding(src)\n",
    "    tgt = embedding(tgt)\n",
    "    src.to(device)\n",
    "    tgt.to(device)\n",
    "    \n",
    "    \n",
    "    pred = transformer_model.forward(src, tgt)\n",
    "    y = tokenizer(df.summary[i], truncation=True, padding='longest', return_tensors=\"pt\").to(device)\n",
    "    embed_y = embedding(y[\"input_ids\"])\n",
    "    \n",
    "    #reshape \n",
    "    t = torch.zeros([1,1024, 1024]).to(device)\n",
    "    for x in embed_y[0]:\n",
    "        t[0] = x\n",
    "        \n",
    "#     pred = sm(pred)\n",
    "#     t = sm(t)\n",
    "   \n",
    "    print(pred)\n",
    "        \n",
    "    loss = loss_fn(pred, t)\n",
    "    \n",
    "    #if i % 100 == 0:\n",
    "    print(\"{} {}\".format(i, loss.item()))\n",
    "    break\n",
    "        \n",
    "    loss.backward()\n",
    "    optimizer.step()\n",
    "    \n",
    "    "
   ]
  },
  {
   "cell_type": "code",
   "execution_count": null,
   "id": "bacterial-panel",
   "metadata": {},
   "outputs": [],
   "source": []
  },
  {
   "cell_type": "code",
   "execution_count": null,
   "id": "direct-think",
   "metadata": {},
   "outputs": [],
   "source": []
  }
 ],
 "metadata": {
  "kernelspec": {
   "display_name": "Python 3",
   "language": "python",
   "name": "python3"
  },
  "language_info": {
   "codemirror_mode": {
    "name": "ipython",
    "version": 3
   },
   "file_extension": ".py",
   "mimetype": "text/x-python",
   "name": "python",
   "nbconvert_exporter": "python",
   "pygments_lexer": "ipython3",
   "version": "3.7.10"
  }
 },
 "nbformat": 4,
 "nbformat_minor": 5
}
